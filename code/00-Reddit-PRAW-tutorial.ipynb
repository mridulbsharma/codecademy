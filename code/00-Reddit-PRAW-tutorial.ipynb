{
 "cells": [
  {
   "cell_type": "markdown",
   "id": "bc426077-0da2-49af-8e9f-e7a27ebaadd9",
   "metadata": {},
   "source": [
    "# **1. Install PRAW**"
   ]
  },
  {
   "cell_type": "code",
   "execution_count": 136,
   "id": "6a3e56be-a4bf-43d4-8c57-7f9954b44b46",
   "metadata": {
    "tags": []
   },
   "outputs": [
    {
     "name": "stdout",
     "output_type": "stream",
     "text": [
      "Requirement already satisfied: praw in c:\\users\\mrsha\\anaconda3\\lib\\site-packages (7.7.1)\n",
      "Requirement already satisfied: prawcore<3,>=2.1 in c:\\users\\mrsha\\anaconda3\\lib\\site-packages (from praw) (2.4.0)\n",
      "Requirement already satisfied: update-checker>=0.18 in c:\\users\\mrsha\\anaconda3\\lib\\site-packages (from praw) (0.18.0)\n",
      "Requirement already satisfied: websocket-client>=0.54.0 in c:\\users\\mrsha\\anaconda3\\lib\\site-packages (from praw) (0.58.0)\n",
      "Requirement already satisfied: requests<3.0,>=2.6.0 in c:\\users\\mrsha\\anaconda3\\lib\\site-packages (from prawcore<3,>=2.1->praw) (2.31.0)\n",
      "Requirement already satisfied: six in c:\\users\\mrsha\\anaconda3\\lib\\site-packages (from websocket-client>=0.54.0->praw) (1.16.0)\n",
      "Requirement already satisfied: charset-normalizer<4,>=2 in c:\\users\\mrsha\\anaconda3\\lib\\site-packages (from requests<3.0,>=2.6.0->prawcore<3,>=2.1->praw) (2.0.4)\n",
      "Requirement already satisfied: idna<4,>=2.5 in c:\\users\\mrsha\\anaconda3\\lib\\site-packages (from requests<3.0,>=2.6.0->prawcore<3,>=2.1->praw) (3.4)\n",
      "Requirement already satisfied: urllib3<3,>=1.21.1 in c:\\users\\mrsha\\anaconda3\\lib\\site-packages (from requests<3.0,>=2.6.0->prawcore<3,>=2.1->praw) (2.0.7)\n",
      "Requirement already satisfied: certifi>=2017.4.17 in c:\\users\\mrsha\\anaconda3\\lib\\site-packages (from requests<3.0,>=2.6.0->prawcore<3,>=2.1->praw) (2024.2.2)\n"
     ]
    }
   ],
   "source": [
    "!pip install praw\n",
    "import praw"
   ]
  },
  {
   "cell_type": "code",
   "execution_count": 137,
   "id": "9d00d19e-0be5-4ab0-901b-7584d3aa1330",
   "metadata": {
    "tags": []
   },
   "outputs": [],
   "source": [
    "# don't do this!\n",
    "password = 'my_secret_password'"
   ]
  },
  {
   "cell_type": "code",
   "execution_count": 138,
   "id": "6451add3-db70-4ac4-9a35-1847db6859e4",
   "metadata": {
    "tags": []
   },
   "outputs": [],
   "source": [
    "# do this instead!\n",
    "from dotenv import load_dotenv\n",
    "import os"
   ]
  },
  {
   "cell_type": "code",
   "execution_count": 139,
   "id": "ca4e1858-6c06-42e1-a399-185fd5aa371a",
   "metadata": {
    "tags": []
   },
   "outputs": [
    {
     "data": {
      "text/plain": [
       "False"
      ]
     },
     "execution_count": 139,
     "metadata": {},
     "output_type": "execute_result"
    }
   ],
   "source": [
    "load_dotenv()"
   ]
  },
  {
   "cell_type": "code",
   "execution_count": 140,
   "id": "6559cffd-9627-4521-8d98-f3759b51acd4",
   "metadata": {
    "tags": []
   },
   "outputs": [],
   "source": [
    "password = os.getenv('SprScrtPsswrd4life!')"
   ]
  },
  {
   "cell_type": "markdown",
   "id": "78ecd0ed-d601-4b45-b545-639d4a1e7b49",
   "metadata": {},
   "source": [
    "# **2. Create a Reddit App**"
   ]
  },
  {
   "cell_type": "markdown",
   "id": "da49f3cc-1cec-4917-90f4-7b639d7a145a",
   "metadata": {},
   "source": [
    "To access the Reddit API, you'll need to create an application on Reddit and obtain your API credentials. Follow these steps:\n",
    "\n",
    "- Go to the Reddit website (https://www.reddit.com/) and log in to your account. Feel free to create a throwaway account for this project!\n",
    "- Navigate to the Reddit Apps page (https://www.reddit.com/prefs/apps).\n",
    "- Click the \"are you a developer? create an app...\" button in the top left.\n",
    "- Provide a name for your app (e.g., \"PRAW\"), select the app type ('script') , and optionally add a description. Use http://localhost:8080 as your redirect URI.\n",
    "- After submitting the form, you will reach a page that looks like the following image. You'll see your application's details, including the client ID and client secret. Keep these credentials handy for the next step.\n"
   ]
  },
  {
   "cell_type": "markdown",
   "id": "b3997780-adc4-4ee2-91e3-6a296587cdf8",
   "metadata": {},
   "source": [
    "![Praw](https://www.honchosearch.com/hubfs/Imported_Blog_Media/Client-ID-Client-Secret.png)"
   ]
  },
  {
   "cell_type": "markdown",
   "id": "2b71b52e-05db-4a47-8c8c-ec8f4fd9c283",
   "metadata": {},
   "source": [
    "# **3. Initialize PRAW**"
   ]
  },
  {
   "cell_type": "code",
   "execution_count": 150,
   "id": "103d7151-cf2e-47cb-82c2-578faa763888",
   "metadata": {
    "tags": []
   },
   "outputs": [],
   "source": [
    "reddit = praw.Reddit(\n",
    "    client_id='dYcW5XC-BIZCgWpqa5apNg',\n",
    "    client_secret='9DbERLcWrml0Q0ptlYl6Tmi4UCWFJw',\n",
    "    user_agent='sentiment-analysis-lawdhavmerccy',\n",
    "    username='lawdhavmerccy',\n",
    "    password='SprScrtPsswrd4life!'\n",
    ")"
   ]
  },
  {
   "cell_type": "markdown",
   "id": "204db51a-ee1d-4180-839b-67bdecea4fe5",
   "metadata": {},
   "source": [
    "Replace 'YOUR_CLIENT_ID', 'YOUR_CLIENT_SECRET', 'YOUR_USER_AGENT', 'YOUR_REDDIT_USERNAME', and 'YOUR_REDDIT_PASSWORD' with your actual Reddit API credentials."
   ]
  },
  {
   "cell_type": "markdown",
   "id": "95b298a6-1aa9-4690-8447-6f717c24e9cc",
   "metadata": {},
   "source": [
    "Your user agent is an identifier used by reddit to identify the source of requests. You can make it whatever you want, but you'll want to choose something descriptive and unique, and it's recommended that your username is included."
   ]
  },
  {
   "cell_type": "markdown",
   "id": "d9006de6-d5ce-4537-a9c7-ca5bdd4ee630",
   "metadata": {},
   "source": [
    "**I have removed my own credentials from this workbook. We can show you how to hide your credentials before submitting the project! The following code will need your own credentials in order to successfully work.**"
   ]
  },
  {
   "cell_type": "markdown",
   "id": "072ea3ea-ab20-4fe5-8711-dbe220400fa3",
   "metadata": {},
   "source": [
    "# 4. Take a look at the documentation [here](https://praw.readthedocs.io/)!"
   ]
  },
  {
   "cell_type": "code",
   "execution_count": 156,
   "id": "17aa261b-f63a-4437-ac41-242982cb546c",
   "metadata": {
    "tags": []
   },
   "outputs": [],
   "source": [
    "# Below is JUST an example of how you can use PRAW\n",
    "\n",
    "# Choose your subreddit\n",
    "subreddit = reddit.subreddit('boardgames')\n",
    "\n",
    "# Adjust the limit as needed -- Note that this will grab the 25 most recent posts\n",
    "posts = subreddit.new(limit=25)"
   ]
  },
  {
   "cell_type": "markdown",
   "id": "ad8eb1f6-449f-4bc9-9d56-1fe03739ff50",
   "metadata": {},
   "source": [
    "## NOTE\n",
    "- Reddit API Limitations: The Reddit API imposes limitations on the number of posts you can retrieve in a single request. The maximum number of posts per request is typically 100. Therefore, if you set the limit parameter to a value greater than 100, PRAW will make multiple requests behind the scenes to fetch the desired number of posts.\n",
    "- Rate Limiting: The Reddit API also enforces rate limits to prevent abuse and ensure fair usage. The specific rate limits can vary depending on factors such as your Reddit account's age and karma. As a standard user, you're typically allowed to make 60 requests per minute. If you exceed the rate limit, you may receive an error response until the rate limit resets.\n",
    "- TIP: You can use the created_utc attribute of a post to keep track of the timestamp and ensure non-overlapping pulls. The created_utc attribute represents the post's creation time in UTC."
   ]
  },
  {
   "cell_type": "code",
   "execution_count": 159,
   "id": "a1b221e2-244d-42dc-9c89-1d04134fc7d2",
   "metadata": {
    "tags": []
   },
   "outputs": [
    {
     "data": {
      "text/html": [
       "<div>\n",
       "<style scoped>\n",
       "    .dataframe tbody tr th:only-of-type {\n",
       "        vertical-align: middle;\n",
       "    }\n",
       "\n",
       "    .dataframe tbody tr th {\n",
       "        vertical-align: top;\n",
       "    }\n",
       "\n",
       "    .dataframe thead th {\n",
       "        text-align: right;\n",
       "    }\n",
       "</style>\n",
       "<table border=\"1\" class=\"dataframe\">\n",
       "  <thead>\n",
       "    <tr style=\"text-align: right;\">\n",
       "      <th></th>\n",
       "      <th>created_utc</th>\n",
       "      <th>title</th>\n",
       "      <th>self_text</th>\n",
       "      <th>subreddit</th>\n",
       "    </tr>\n",
       "  </thead>\n",
       "  <tbody>\n",
       "    <tr>\n",
       "      <th>0</th>\n",
       "      <td>1.719884e+09</td>\n",
       "      <td>Games to play before 100 - need help deciding ...</td>\n",
       "      <td>Hi folks,\\n\\nA couple of months ago I posted a...</td>\n",
       "      <td>boardgames</td>\n",
       "    </tr>\n",
       "    <tr>\n",
       "      <th>1</th>\n",
       "      <td>1.719883e+09</td>\n",
       "      <td>NEED Carcassonne box</td>\n",
       "      <td>I've printed carcassonne (base version), using...</td>\n",
       "      <td>boardgames</td>\n",
       "    </tr>\n",
       "    <tr>\n",
       "      <th>2</th>\n",
       "      <td>1.719882e+09</td>\n",
       "      <td>Clank Digital Beta Code</td>\n",
       "      <td>I received a unique code to access the Clank D...</td>\n",
       "      <td>boardgames</td>\n",
       "    </tr>\n",
       "    <tr>\n",
       "      <th>3</th>\n",
       "      <td>1.719882e+09</td>\n",
       "      <td>Identify the game from its rules/mechanics... ...</td>\n",
       "      <td>How unique are our games' mechanisms really?\\n...</td>\n",
       "      <td>boardgames</td>\n",
       "    </tr>\n",
       "    <tr>\n",
       "      <th>4</th>\n",
       "      <td>1.719877e+09</td>\n",
       "      <td>What are some spin off games you think are bet...</td>\n",
       "      <td>I played Terraforming Mars: Ares Expedition re...</td>\n",
       "      <td>boardgames</td>\n",
       "    </tr>\n",
       "    <tr>\n",
       "      <th>5</th>\n",
       "      <td>1.719876e+09</td>\n",
       "      <td>Just finished making my own version of ticket ...</td>\n",
       "      <td>My favorite board game of all time, spent like...</td>\n",
       "      <td>boardgames</td>\n",
       "    </tr>\n",
       "    <tr>\n",
       "      <th>6</th>\n",
       "      <td>1.719875e+09</td>\n",
       "      <td>Game work</td>\n",
       "      <td>Ive got a job that allows me a few hours of ga...</td>\n",
       "      <td>boardgames</td>\n",
       "    </tr>\n",
       "    <tr>\n",
       "      <th>7</th>\n",
       "      <td>1.719875e+09</td>\n",
       "      <td>Murder mystery dinner games</td>\n",
       "      <td>Hello all! For my birthday this year I am thin...</td>\n",
       "      <td>boardgames</td>\n",
       "    </tr>\n",
       "    <tr>\n",
       "      <th>8</th>\n",
       "      <td>1.719874e+09</td>\n",
       "      <td>Good city Building boardgames?</td>\n",
       "      <td>I think city Building boardgames are really fu...</td>\n",
       "      <td>boardgames</td>\n",
       "    </tr>\n",
       "    <tr>\n",
       "      <th>9</th>\n",
       "      <td>1.719871e+09</td>\n",
       "      <td>Any way to make Fog of Love less onerous to se...</td>\n",
       "      <td>Hey all, just wanted to see if anyone has some...</td>\n",
       "      <td>boardgames</td>\n",
       "    </tr>\n",
       "    <tr>\n",
       "      <th>10</th>\n",
       "      <td>1.719871e+09</td>\n",
       "      <td>parks nightfall</td>\n",
       "      <td>anyone know whats up with the nightfall expans...</td>\n",
       "      <td>boardgames</td>\n",
       "    </tr>\n",
       "    <tr>\n",
       "      <th>11</th>\n",
       "      <td>1.719869e+09</td>\n",
       "      <td>Getting into board game groups</td>\n",
       "      <td>Not many of my friends like playing board game...</td>\n",
       "      <td>boardgames</td>\n",
       "    </tr>\n",
       "    <tr>\n",
       "      <th>12</th>\n",
       "      <td>1.719868e+09</td>\n",
       "      <td>Good murder mystery party game for 25 people o...</td>\n",
       "      <td>There are so many of them I don't know which a...</td>\n",
       "      <td>boardgames</td>\n",
       "    </tr>\n",
       "    <tr>\n",
       "      <th>13</th>\n",
       "      <td>1.719868e+09</td>\n",
       "      <td>Protecting Game Boards?</td>\n",
       "      <td>I recently got my copy of 6:Siege from Kicksta...</td>\n",
       "      <td>boardgames</td>\n",
       "    </tr>\n",
       "    <tr>\n",
       "      <th>14</th>\n",
       "      <td>1.719867e+09</td>\n",
       "      <td>Game for 8-12 high school students</td>\n",
       "      <td>I’m looking for a game that 8-12 high school (...</td>\n",
       "      <td>boardgames</td>\n",
       "    </tr>\n",
       "    <tr>\n",
       "      <th>15</th>\n",
       "      <td>1.719866e+09</td>\n",
       "      <td>Anyone for custom 1/1 Star wars Armada dice..💞...</td>\n",
       "      <td></td>\n",
       "      <td>boardgames</td>\n",
       "    </tr>\n",
       "    <tr>\n",
       "      <th>16</th>\n",
       "      <td>1.719865e+09</td>\n",
       "      <td>Hexagonal Connect 5 / Gokomoku - Complexity?</td>\n",
       "      <td>Is the gahe complexity of a connect 5 game or ...</td>\n",
       "      <td>boardgames</td>\n",
       "    </tr>\n",
       "    <tr>\n",
       "      <th>17</th>\n",
       "      <td>1.719864e+09</td>\n",
       "      <td>Peterson Games/Quimbley's Letter</td>\n",
       "      <td>Anyone figured out what the fuck to do with th...</td>\n",
       "      <td>boardgames</td>\n",
       "    </tr>\n",
       "    <tr>\n",
       "      <th>18</th>\n",
       "      <td>1.719862e+09</td>\n",
       "      <td>Dune Imperium Help</td>\n",
       "      <td>I played a game yesterday and I made a discard...</td>\n",
       "      <td>boardgames</td>\n",
       "    </tr>\n",
       "    <tr>\n",
       "      <th>19</th>\n",
       "      <td>1.719858e+09</td>\n",
       "      <td>Oilman's Game Ruling</td>\n",
       "      <td>My partner and I started playing The Oilman Ga...</td>\n",
       "      <td>boardgames</td>\n",
       "    </tr>\n",
       "    <tr>\n",
       "      <th>20</th>\n",
       "      <td>1.719858e+09</td>\n",
       "      <td>How many mistakes do you make per game?</td>\n",
       "      <td>In a mid weight game I generally make one mist...</td>\n",
       "      <td>boardgames</td>\n",
       "    </tr>\n",
       "    <tr>\n",
       "      <th>21</th>\n",
       "      <td>1.719855e+09</td>\n",
       "      <td>Marvel Selfish rule clarification</td>\n",
       "      <td>It seems that there's no interaction between p...</td>\n",
       "      <td>boardgames</td>\n",
       "    </tr>\n",
       "    <tr>\n",
       "      <th>22</th>\n",
       "      <td>1.719855e+09</td>\n",
       "      <td>Scoundrel and My Additions</td>\n",
       "      <td>I’ve been playing a single player card game ca...</td>\n",
       "      <td>boardgames</td>\n",
       "    </tr>\n",
       "    <tr>\n",
       "      <th>23</th>\n",
       "      <td>1.719854e+09</td>\n",
       "      <td>Deck building games for beginners</td>\n",
       "      <td>Recently I have seen a couple of YouTube video...</td>\n",
       "      <td>boardgames</td>\n",
       "    </tr>\n",
       "    <tr>\n",
       "      <th>24</th>\n",
       "      <td>1.719852e+09</td>\n",
       "      <td>Large scale, weekend long, hidden roles game</td>\n",
       "      <td>Hi All,\\n\\n  \\nI'm not sure if this is the bes...</td>\n",
       "      <td>boardgames</td>\n",
       "    </tr>\n",
       "  </tbody>\n",
       "</table>\n",
       "</div>"
      ],
      "text/plain": [
       "     created_utc                                              title  \\\n",
       "0   1.719884e+09  Games to play before 100 - need help deciding ...   \n",
       "1   1.719883e+09                               NEED Carcassonne box   \n",
       "2   1.719882e+09                            Clank Digital Beta Code   \n",
       "3   1.719882e+09  Identify the game from its rules/mechanics... ...   \n",
       "4   1.719877e+09  What are some spin off games you think are bet...   \n",
       "5   1.719876e+09  Just finished making my own version of ticket ...   \n",
       "6   1.719875e+09                                         Game work    \n",
       "7   1.719875e+09                        Murder mystery dinner games   \n",
       "8   1.719874e+09                     Good city Building boardgames?   \n",
       "9   1.719871e+09  Any way to make Fog of Love less onerous to se...   \n",
       "10  1.719871e+09                                    parks nightfall   \n",
       "11  1.719869e+09                     Getting into board game groups   \n",
       "12  1.719868e+09  Good murder mystery party game for 25 people o...   \n",
       "13  1.719868e+09                           Protecting Game Boards?    \n",
       "14  1.719867e+09                 Game for 8-12 high school students   \n",
       "15  1.719866e+09  Anyone for custom 1/1 Star wars Armada dice..💞...   \n",
       "16  1.719865e+09       Hexagonal Connect 5 / Gokomoku - Complexity?   \n",
       "17  1.719864e+09                   Peterson Games/Quimbley's Letter   \n",
       "18  1.719862e+09                                 Dune Imperium Help   \n",
       "19  1.719858e+09                               Oilman's Game Ruling   \n",
       "20  1.719858e+09            How many mistakes do you make per game?   \n",
       "21  1.719855e+09                 Marvel Selfish rule clarification    \n",
       "22  1.719855e+09                         Scoundrel and My Additions   \n",
       "23  1.719854e+09                  Deck building games for beginners   \n",
       "24  1.719852e+09       Large scale, weekend long, hidden roles game   \n",
       "\n",
       "                                            self_text   subreddit  \n",
       "0   Hi folks,\\n\\nA couple of months ago I posted a...  boardgames  \n",
       "1   I've printed carcassonne (base version), using...  boardgames  \n",
       "2   I received a unique code to access the Clank D...  boardgames  \n",
       "3   How unique are our games' mechanisms really?\\n...  boardgames  \n",
       "4   I played Terraforming Mars: Ares Expedition re...  boardgames  \n",
       "5   My favorite board game of all time, spent like...  boardgames  \n",
       "6   Ive got a job that allows me a few hours of ga...  boardgames  \n",
       "7   Hello all! For my birthday this year I am thin...  boardgames  \n",
       "8   I think city Building boardgames are really fu...  boardgames  \n",
       "9   Hey all, just wanted to see if anyone has some...  boardgames  \n",
       "10  anyone know whats up with the nightfall expans...  boardgames  \n",
       "11  Not many of my friends like playing board game...  boardgames  \n",
       "12  There are so many of them I don't know which a...  boardgames  \n",
       "13  I recently got my copy of 6:Siege from Kicksta...  boardgames  \n",
       "14  I’m looking for a game that 8-12 high school (...  boardgames  \n",
       "15                                                     boardgames  \n",
       "16  Is the gahe complexity of a connect 5 game or ...  boardgames  \n",
       "17  Anyone figured out what the fuck to do with th...  boardgames  \n",
       "18  I played a game yesterday and I made a discard...  boardgames  \n",
       "19  My partner and I started playing The Oilman Ga...  boardgames  \n",
       "20  In a mid weight game I generally make one mist...  boardgames  \n",
       "21  It seems that there's no interaction between p...  boardgames  \n",
       "22  I’ve been playing a single player card game ca...  boardgames  \n",
       "23  Recently I have seen a couple of YouTube video...  boardgames  \n",
       "24  Hi All,\\n\\n  \\nI'm not sure if this is the bes...  boardgames  "
      ]
     },
     "execution_count": 159,
     "metadata": {},
     "output_type": "execute_result"
    }
   ],
   "source": [
    "import pandas as pd\n",
    "\n",
    "data = []\n",
    "for post in posts:\n",
    "    data.append([post.created_utc, post.title, post.selftext, post.subreddit])\n",
    "\n",
    "# Turn into a dataframe\n",
    "boardgames = pd.DataFrame(data, columns = ['created_utc', 'title', 'self_text', 'subreddit'])\n",
    "boardgames"
   ]
  },
  {
   "cell_type": "code",
   "execution_count": 168,
   "id": "e17c7e4d-0782-4a08-912e-dadcf59e3dd7",
   "metadata": {
    "tags": []
   },
   "outputs": [],
   "source": [
    "boardgames.to_csv('./data/boardgames_tutorial.csv')"
   ]
  },
  {
   "cell_type": "markdown",
   "id": "2eb4c19d-f9d9-4be8-9ca5-5ecbbde48970",
   "metadata": {},
   "source": [
    "Remember, you will need to pull *at least* 1000 posts from each subreddit, not just 25. Like I mentioned above, you can use the created_utc attribute of a post to keep track of the timestamp and ensure non-overlapping pulls. We will leave this work for you all to complete.\n",
    "\n",
    "Once you have at least 1000 posts from each subreddit, you can do some EDA (perhaps maybe the most common words in each subreddit..?) Eventually, you will want to combine your two dataframes together to do modeling."
   ]
  },
  {
   "cell_type": "markdown",
   "id": "d0785dc1-075d-4bd4-8c34-4dd2978d7dfb",
   "metadata": {},
   "source": [
    "### Hopefully this is enough of a tutorial to help get you started! If you have any questions, let us know!"
   ]
  },
  {
   "cell_type": "markdown",
   "id": "8f942833-8fdb-46d1-9182-b672e49434a5",
   "metadata": {},
   "source": [
    "### Note: Rather than working in this template notebook, make a brand new \"scraping\" notebook (or script), with your own comments, so you can use this project in a portfolio!"
   ]
  }
 ],
 "metadata": {
  "kernelspec": {
   "display_name": "Python 3 (ipykernel)",
   "language": "python",
   "name": "python3"
  },
  "language_info": {
   "codemirror_mode": {
    "name": "ipython",
    "version": 3
   },
   "file_extension": ".py",
   "mimetype": "text/x-python",
   "name": "python",
   "nbconvert_exporter": "python",
   "pygments_lexer": "ipython3",
   "version": "3.11.7"
  }
 },
 "nbformat": 4,
 "nbformat_minor": 5
}
