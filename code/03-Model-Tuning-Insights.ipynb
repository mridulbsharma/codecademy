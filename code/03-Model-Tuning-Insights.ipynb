{
 "cells": [
  {
   "cell_type": "code",
   "execution_count": 20,
   "id": "d43f95e9-eeb3-469f-923b-3d8de36dc4a1",
   "metadata": {},
   "outputs": [],
   "source": [
    "import pandas as pd\n",
    "import numpy as np\n",
    "\n",
    "from sklearn.model_selection import train_test_split, GridSearchCV, RandomizedSearchCV\n",
    "from sklearn.pipeline import Pipeline\n",
    "from sklearn.linear_model import LogisticRegression\n",
    "from sklearn.compose import ColumnTransformer\n",
    "from sklearn.ensemble import RandomForestClassifier\n",
    "from sklearn import metrics\n",
    "from sklearn.metrics import accuracy_score, classification_report, confusion_matrix, ConfusionMatrixDisplay\n",
    "from sklearn.feature_extraction.text import CountVectorizer, TfidfVectorizer\n",
    "from sklearn.naive_bayes import MultinomialNB\n",
    "\n",
    "import nltk\n",
    "from nltk.tokenize import word_tokenize, sent_tokenize, RegexpTokenizer\n",
    "from nltk.corpus import stopwords, wordnet\n",
    "from nltk.stem import PorterStemmer, WordNetLemmatizer\n",
    "from nltk.sentiment.vader import SentimentIntensityAnalyzer"
   ]
  },
  {
   "cell_type": "code",
   "execution_count": 21,
   "id": "44ff182e-7aff-44a5-a080-2237006c5216",
   "metadata": {},
   "outputs": [
    {
     "data": {
      "text/html": [
       "<div>\n",
       "<style scoped>\n",
       "    .dataframe tbody tr th:only-of-type {\n",
       "        vertical-align: middle;\n",
       "    }\n",
       "\n",
       "    .dataframe tbody tr th {\n",
       "        vertical-align: top;\n",
       "    }\n",
       "\n",
       "    .dataframe thead th {\n",
       "        text-align: right;\n",
       "    }\n",
       "</style>\n",
       "<table border=\"1\" class=\"dataframe\">\n",
       "  <thead>\n",
       "    <tr style=\"text-align: right;\">\n",
       "      <th></th>\n",
       "      <th>id</th>\n",
       "      <th>datetime</th>\n",
       "      <th>title</th>\n",
       "      <th>text</th>\n",
       "      <th>score</th>\n",
       "      <th>upvote_ratio</th>\n",
       "      <th>url</th>\n",
       "      <th>subreddit</th>\n",
       "      <th>has_text</th>\n",
       "      <th>title_len</th>\n",
       "      <th>text_len</th>\n",
       "    </tr>\n",
       "  </thead>\n",
       "  <tbody>\n",
       "    <tr>\n",
       "      <th>116</th>\n",
       "      <td>1dxymx4</td>\n",
       "      <td>2024-07-08 03:12:25</td>\n",
       "      <td>One month doing options, might kms</td>\n",
       "      <td>Any advice for a comeback would be awesome.</td>\n",
       "      <td>16</td>\n",
       "      <td>0.60</td>\n",
       "      <td>https://i.redd.it/cjy8hemap7bd1.jpeg</td>\n",
       "      <td>1</td>\n",
       "      <td>True</td>\n",
       "      <td>6</td>\n",
       "      <td>9</td>\n",
       "    </tr>\n",
       "    <tr>\n",
       "      <th>3298</th>\n",
       "      <td>1disy19</td>\n",
       "      <td>2024-06-18 15:07:03</td>\n",
       "      <td>VoteDoge Debate Video Teaser 2: The Second Cli...</td>\n",
       "      <td>We’re thrilled to share the second teaser from...</td>\n",
       "      <td>12</td>\n",
       "      <td>1.00</td>\n",
       "      <td>https://www.reddit.com/r/CryptoMoonShots/comme...</td>\n",
       "      <td>0</td>\n",
       "      <td>True</td>\n",
       "      <td>10</td>\n",
       "      <td>225</td>\n",
       "    </tr>\n",
       "    <tr>\n",
       "      <th>3274</th>\n",
       "      <td>1djqjrx</td>\n",
       "      <td>2024-06-19 18:39:12</td>\n",
       "      <td>Revolutionary RWA &amp; NFT Technology | Lets Join...</td>\n",
       "      <td>Welcome to $UPLOAD ! \\n\\n\\nUpload3D is the wor...</td>\n",
       "      <td>0</td>\n",
       "      <td>0.50</td>\n",
       "      <td>https://www.reddit.com/r/CryptoMoonShots/comme...</td>\n",
       "      <td>0</td>\n",
       "      <td>True</td>\n",
       "      <td>11</td>\n",
       "      <td>210</td>\n",
       "    </tr>\n",
       "    <tr>\n",
       "      <th>2341</th>\n",
       "      <td>l9mo6a</td>\n",
       "      <td>2021-01-31 21:36:42</td>\n",
       "      <td>The moon has been reached. Next stop: MARS! 🚀🚀...</td>\n",
       "      <td>notexthere</td>\n",
       "      <td>51694</td>\n",
       "      <td>0.96</td>\n",
       "      <td>https://v.redd.it/x961o3qglqe61</td>\n",
       "      <td>1</td>\n",
       "      <td>False</td>\n",
       "      <td>13</td>\n",
       "      <td>1</td>\n",
       "    </tr>\n",
       "    <tr>\n",
       "      <th>963</th>\n",
       "      <td>1cg10zp</td>\n",
       "      <td>2024-04-29 14:50:07</td>\n",
       "      <td>DJT to $60-$70</td>\n",
       "      <td>As insane as it is, DJT's on its way back up t...</td>\n",
       "      <td>26</td>\n",
       "      <td>0.56</td>\n",
       "      <td>https://www.reddit.com/r/wallstreetbets/commen...</td>\n",
       "      <td>1</td>\n",
       "      <td>True</td>\n",
       "      <td>3</td>\n",
       "      <td>48</td>\n",
       "    </tr>\n",
       "    <tr>\n",
       "      <th>5511</th>\n",
       "      <td>b6yh8d</td>\n",
       "      <td>2019-03-29 15:12:38</td>\n",
       "      <td>Parent company clients: Amazon, Google, Facebo...</td>\n",
       "      <td>Hi guys, I'm back again! This time with anothe...</td>\n",
       "      <td>1</td>\n",
       "      <td>0.55</td>\n",
       "      <td>https://www.reddit.com/r/CryptoMoonShots/comme...</td>\n",
       "      <td>0</td>\n",
       "      <td>True</td>\n",
       "      <td>10</td>\n",
       "      <td>1016</td>\n",
       "    </tr>\n",
       "    <tr>\n",
       "      <th>687</th>\n",
       "      <td>1dpyevb</td>\n",
       "      <td>2024-06-27 18:29:18</td>\n",
       "      <td>VALE @bottom ?</td>\n",
       "      <td>I have been in and out of VALE for years. Mine...</td>\n",
       "      <td>10</td>\n",
       "      <td>0.81</td>\n",
       "      <td>https://www.reddit.com/r/wallstreetbets/commen...</td>\n",
       "      <td>1</td>\n",
       "      <td>True</td>\n",
       "      <td>3</td>\n",
       "      <td>70</td>\n",
       "    </tr>\n",
       "    <tr>\n",
       "      <th>2297</th>\n",
       "      <td>laay7m</td>\n",
       "      <td>2021-02-01 18:58:08</td>\n",
       "      <td>digital billboard in johnson city, TN. retards...</td>\n",
       "      <td>notexthere</td>\n",
       "      <td>68725</td>\n",
       "      <td>0.97</td>\n",
       "      <td>https://i.redd.it/12ch27p7ywe61.jpg</td>\n",
       "      <td>1</td>\n",
       "      <td>False</td>\n",
       "      <td>9</td>\n",
       "      <td>1</td>\n",
       "    </tr>\n",
       "    <tr>\n",
       "      <th>5124</th>\n",
       "      <td>l8fxms</td>\n",
       "      <td>2021-01-30 06:42:34</td>\n",
       "      <td>r/ethtrader Donuts 🍩</td>\n",
       "      <td>It's jumped 1000% in 24 hours, low mcap 4m and...</td>\n",
       "      <td>3</td>\n",
       "      <td>0.62</td>\n",
       "      <td>https://www.reddit.com/r/CryptoMoonShots/comme...</td>\n",
       "      <td>0</td>\n",
       "      <td>True</td>\n",
       "      <td>3</td>\n",
       "      <td>88</td>\n",
       "    </tr>\n",
       "    <tr>\n",
       "      <th>4522</th>\n",
       "      <td>oz647n</td>\n",
       "      <td>2021-08-06 12:58:07</td>\n",
       "      <td>$ROBO | Launch on PSC in 5 hours | Presale end...</td>\n",
       "      <td>\\n\\n***Welcome To RoboToken ($ROBO)***\\n\\nPr...</td>\n",
       "      <td>2491</td>\n",
       "      <td>0.99</td>\n",
       "      <td>https://www.reddit.com/r/CryptoMoonShots/comme...</td>\n",
       "      <td>0</td>\n",
       "      <td>True</td>\n",
       "      <td>40</td>\n",
       "      <td>177</td>\n",
       "    </tr>\n",
       "  </tbody>\n",
       "</table>\n",
       "</div>"
      ],
      "text/plain": [
       "           id             datetime  \\\n",
       "116   1dxymx4  2024-07-08 03:12:25   \n",
       "3298  1disy19  2024-06-18 15:07:03   \n",
       "3274  1djqjrx  2024-06-19 18:39:12   \n",
       "2341   l9mo6a  2021-01-31 21:36:42   \n",
       "963   1cg10zp  2024-04-29 14:50:07   \n",
       "5511   b6yh8d  2019-03-29 15:12:38   \n",
       "687   1dpyevb  2024-06-27 18:29:18   \n",
       "2297   laay7m  2021-02-01 18:58:08   \n",
       "5124   l8fxms  2021-01-30 06:42:34   \n",
       "4522   oz647n  2021-08-06 12:58:07   \n",
       "\n",
       "                                                  title  \\\n",
       "116                  One month doing options, might kms   \n",
       "3298  VoteDoge Debate Video Teaser 2: The Second Cli...   \n",
       "3274  Revolutionary RWA & NFT Technology | Lets Join...   \n",
       "2341  The moon has been reached. Next stop: MARS! 🚀🚀...   \n",
       "963                                      DJT to $60-$70   \n",
       "5511  Parent company clients: Amazon, Google, Facebo...   \n",
       "687                                      VALE @bottom ?   \n",
       "2297  digital billboard in johnson city, TN. retards...   \n",
       "5124                               r/ethtrader Donuts 🍩   \n",
       "4522  $ROBO | Launch on PSC in 5 hours | Presale end...   \n",
       "\n",
       "                                                   text  score  upvote_ratio  \\\n",
       "116        Any advice for a comeback would be awesome.      16          0.60   \n",
       "3298  We’re thrilled to share the second teaser from...     12          1.00   \n",
       "3274  Welcome to $UPLOAD ! \\n\\n\\nUpload3D is the wor...      0          0.50   \n",
       "2341                                         notexthere  51694          0.96   \n",
       "963   As insane as it is, DJT's on its way back up t...     26          0.56   \n",
       "5511  Hi guys, I'm back again! This time with anothe...      1          0.55   \n",
       "687   I have been in and out of VALE for years. Mine...     10          0.81   \n",
       "2297                                         notexthere  68725          0.97   \n",
       "5124  It's jumped 1000% in 24 hours, low mcap 4m and...      3          0.62   \n",
       "4522    \\n\\n***Welcome To RoboToken ($ROBO)***\\n\\nPr...   2491          0.99   \n",
       "\n",
       "                                                    url  subreddit  has_text  \\\n",
       "116                https://i.redd.it/cjy8hemap7bd1.jpeg          1      True   \n",
       "3298  https://www.reddit.com/r/CryptoMoonShots/comme...          0      True   \n",
       "3274  https://www.reddit.com/r/CryptoMoonShots/comme...          0      True   \n",
       "2341                    https://v.redd.it/x961o3qglqe61          1     False   \n",
       "963   https://www.reddit.com/r/wallstreetbets/commen...          1      True   \n",
       "5511  https://www.reddit.com/r/CryptoMoonShots/comme...          0      True   \n",
       "687   https://www.reddit.com/r/wallstreetbets/commen...          1      True   \n",
       "2297                https://i.redd.it/12ch27p7ywe61.jpg          1     False   \n",
       "5124  https://www.reddit.com/r/CryptoMoonShots/comme...          0      True   \n",
       "4522  https://www.reddit.com/r/CryptoMoonShots/comme...          0      True   \n",
       "\n",
       "      title_len  text_len  \n",
       "116           6         9  \n",
       "3298         10       225  \n",
       "3274         11       210  \n",
       "2341         13         1  \n",
       "963           3        48  \n",
       "5511         10      1016  \n",
       "687           3        70  \n",
       "2297          9         1  \n",
       "5124          3        88  \n",
       "4522         40       177  "
      ]
     },
     "execution_count": 21,
     "metadata": {},
     "output_type": "execute_result"
    }
   ],
   "source": [
    "# Step 1: Load the combined data from 'data/combined_df.csv' and explore the dataset\n",
    "import pandas as pd\n",
    "\n",
    "# Load the data\n",
    "data = pd.read_csv('data/combined_df.csv')\n",
    "\n",
    "# Display the first few rows of the dataset\n",
    "data.sample(10)"
   ]
  },
  {
   "cell_type": "code",
   "execution_count": 22,
   "id": "c10293b9-bdab-40bc-87c2-ace476c4d2d6",
   "metadata": {},
   "outputs": [
    {
     "name": "stdout",
     "output_type": "stream",
     "text": [
      "<class 'pandas.core.frame.DataFrame'>\n",
      "RangeIndex: 5545 entries, 0 to 5544\n",
      "Data columns (total 11 columns):\n",
      " #   Column        Non-Null Count  Dtype  \n",
      "---  ------        --------------  -----  \n",
      " 0   id            5545 non-null   object \n",
      " 1   datetime      5545 non-null   object \n",
      " 2   title         5545 non-null   object \n",
      " 3   text          5544 non-null   object \n",
      " 4   score         5545 non-null   int64  \n",
      " 5   upvote_ratio  5545 non-null   float64\n",
      " 6   url           5545 non-null   object \n",
      " 7   subreddit     5545 non-null   int64  \n",
      " 8   has_text      5545 non-null   bool   \n",
      " 9   title_len     5545 non-null   int64  \n",
      " 10  text_len      5545 non-null   int64  \n",
      "dtypes: bool(1), float64(1), int64(4), object(5)\n",
      "memory usage: 438.7+ KB\n"
     ]
    }
   ],
   "source": [
    "# Explore the dataset\n",
    "data.info()"
   ]
  },
  {
   "cell_type": "code",
   "execution_count": 23,
   "id": "cf441f68-d360-4d12-9498-eafd9f4151ca",
   "metadata": {},
   "outputs": [
    {
     "data": {
      "text/plain": [
       "subreddit\n",
       "1    0.509107\n",
       "0    0.490893\n",
       "Name: proportion, dtype: float64"
      ]
     },
     "execution_count": 23,
     "metadata": {},
     "output_type": "execute_result"
    }
   ],
   "source": [
    "data['subreddit'].value_counts(normalize=True)  # Check the distribution of subreddits"
   ]
  },
  {
   "cell_type": "code",
   "execution_count": 24,
   "id": "8be5757e-3965-4683-b68b-081e6805dca4",
   "metadata": {},
   "outputs": [
    {
     "data": {
      "text/plain": [
       "subreddit\n",
       "1    0.509107\n",
       "0    0.490893\n",
       "Name: proportion, dtype: float64"
      ]
     },
     "execution_count": 24,
     "metadata": {},
     "output_type": "execute_result"
    }
   ],
   "source": [
    "data['subreddit'].value_counts(normalize=True)  # Check the distribution of subreddits"
   ]
  },
  {
   "cell_type": "markdown",
   "id": "8dda2455-7a8d-4a9e-891a-7ad153ae4aab",
   "metadata": {},
   "source": [
    "The imbalance is not too bad, around 1.8% more posts in r/wallstreetbets"
   ]
  },
  {
   "cell_type": "code",
   "execution_count": 25,
   "id": "2e13403a-8fb6-4123-93e6-030398e5d716",
   "metadata": {},
   "outputs": [],
   "source": [
    "# Initialize the SentimentIntensityAnalyzer\n",
    "sid = SentimentIntensityAnalyzer()"
   ]
  },
  {
   "cell_type": "code",
   "execution_count": 26,
   "id": "5c5cd70a-5f4a-4759-8545-c92111ae2e0b",
   "metadata": {},
   "outputs": [],
   "source": [
    "# Preprocess the 'title' feature\n",
    "def preprocess_title(title):\n",
    "    # Tokenize the title\n",
    "    tokens = word_tokenize(title.lower())\n",
    "    \n",
    "    # Remove stopwords\n",
    "    stop_words = set(stopwords.words('english'))\n",
    "    tokens = [word for word in tokens if word not in stop_words]\n",
    "    \n",
    "    # Lemmatize the tokens\n",
    "    lemmatizer = WordNetLemmatizer()\n",
    "    tokens = [lemmatizer.lemmatize(word) for word in tokens]\n",
    "    \n",
    "    # Calculate sentiment scores\n",
    "    sentiment_scores = sid.polarity_scores(title)\n",
    "    \n",
    "    # Return the processed title and sentiment scores\n",
    "    return ' '.join(tokens), sentiment_scores['compound']"
   ]
  },
  {
   "cell_type": "code",
   "execution_count": 28,
   "id": "3808a66a-554c-4db1-a1dd-181e7fd868b3",
   "metadata": {},
   "outputs": [
    {
     "name": "stderr",
     "output_type": "stream",
     "text": [
      "[nltk_data] Downloading package wordnet to\n",
      "[nltk_data]     /home/3d093b86-080b-4136-bfe2-\n",
      "[nltk_data]     e36267327b87/nltk_data...\n"
     ]
    }
   ],
   "source": [
    "import nltk\n",
    "nltk.download('wordnet')\n",
    "# Apply the preprocessing function to the 'title' feature\n",
    "data['processed_title'], data['sentiment_score'] = zip(*data['title'].apply(preprocess_title))"
   ]
  },
  {
   "cell_type": "code",
   "execution_count": 29,
   "id": "467383bc-0967-4254-8f17-4edd4c2369e4",
   "metadata": {},
   "outputs": [
    {
     "data": {
      "text/html": [
       "<div>\n",
       "<style scoped>\n",
       "    .dataframe tbody tr th:only-of-type {\n",
       "        vertical-align: middle;\n",
       "    }\n",
       "\n",
       "    .dataframe tbody tr th {\n",
       "        vertical-align: top;\n",
       "    }\n",
       "\n",
       "    .dataframe thead th {\n",
       "        text-align: right;\n",
       "    }\n",
       "</style>\n",
       "<table border=\"1\" class=\"dataframe\">\n",
       "  <thead>\n",
       "    <tr style=\"text-align: right;\">\n",
       "      <th></th>\n",
       "      <th>id</th>\n",
       "      <th>datetime</th>\n",
       "      <th>title</th>\n",
       "      <th>text</th>\n",
       "      <th>score</th>\n",
       "      <th>upvote_ratio</th>\n",
       "      <th>url</th>\n",
       "      <th>subreddit</th>\n",
       "      <th>has_text</th>\n",
       "      <th>title_len</th>\n",
       "      <th>text_len</th>\n",
       "      <th>processed_title</th>\n",
       "      <th>sentiment_score</th>\n",
       "    </tr>\n",
       "  </thead>\n",
       "  <tbody>\n",
       "    <tr>\n",
       "      <th>0</th>\n",
       "      <td>1dzdf1j</td>\n",
       "      <td>2024-07-09 21:00:53</td>\n",
       "      <td>$Sofi is coming back .</td>\n",
       "      <td>I suggest you buy and hold .</td>\n",
       "      <td>3</td>\n",
       "      <td>0.71</td>\n",
       "      <td>https://i.redd.it/ffwh4k2u4kbd1.jpeg</td>\n",
       "      <td>1</td>\n",
       "      <td>True</td>\n",
       "      <td>5</td>\n",
       "      <td>7</td>\n",
       "      <td>$ sofi coming back .</td>\n",
       "      <td>0.0000</td>\n",
       "    </tr>\n",
       "    <tr>\n",
       "      <th>1</th>\n",
       "      <td>1dzdebj</td>\n",
       "      <td>2024-07-09 21:00:11</td>\n",
       "      <td>What’s going on with BABA?</td>\n",
       "      <td>The stock has performed really poorly over the...</td>\n",
       "      <td>2</td>\n",
       "      <td>0.67</td>\n",
       "      <td>https://www.reddit.com/r/wallstreetbets/commen...</td>\n",
       "      <td>1</td>\n",
       "      <td>True</td>\n",
       "      <td>6</td>\n",
       "      <td>84</td>\n",
       "      <td>’ going baba ?</td>\n",
       "      <td>0.0000</td>\n",
       "    </tr>\n",
       "    <tr>\n",
       "      <th>2</th>\n",
       "      <td>1dzd0u6</td>\n",
       "      <td>2024-07-09 20:44:37</td>\n",
       "      <td>ZI Yolo better late than early</td>\n",
       "      <td>DD was some guy posted about seeing a high vol...</td>\n",
       "      <td>2</td>\n",
       "      <td>0.75</td>\n",
       "      <td>https://i.redd.it/a2n775jx1kbd1.jpeg</td>\n",
       "      <td>1</td>\n",
       "      <td>True</td>\n",
       "      <td>7</td>\n",
       "      <td>14</td>\n",
       "      <td>zi yolo better late early</td>\n",
       "      <td>0.6124</td>\n",
       "    </tr>\n",
       "    <tr>\n",
       "      <th>3</th>\n",
       "      <td>1dzckvv</td>\n",
       "      <td>2024-07-09 20:26:14</td>\n",
       "      <td>We are already in a recession</td>\n",
       "      <td>notexthere</td>\n",
       "      <td>3</td>\n",
       "      <td>0.57</td>\n",
       "      <td>https://i.redd.it/1uao7vklyjbd1.png</td>\n",
       "      <td>1</td>\n",
       "      <td>False</td>\n",
       "      <td>6</td>\n",
       "      <td>1</td>\n",
       "      <td>already recession</td>\n",
       "      <td>-0.4215</td>\n",
       "    </tr>\n",
       "    <tr>\n",
       "      <th>4</th>\n",
       "      <td>1dzcjix</td>\n",
       "      <td>2024-07-09 20:24:41</td>\n",
       "      <td>🍔McDonalds🍔: At ATL in 52 weeks. How to make y...</td>\n",
       "      <td>Hello gentleman. \\n\\nFirst of all, the only DD...</td>\n",
       "      <td>1</td>\n",
       "      <td>0.55</td>\n",
       "      <td>https://www.reddit.com/r/wallstreetbets/commen...</td>\n",
       "      <td>1</td>\n",
       "      <td>True</td>\n",
       "      <td>16</td>\n",
       "      <td>138</td>\n",
       "      <td>🍔mcdonalds🍔 : atl 52 week . make easiest profi...</td>\n",
       "      <td>0.6908</td>\n",
       "    </tr>\n",
       "    <tr>\n",
       "      <th>...</th>\n",
       "      <td>...</td>\n",
       "      <td>...</td>\n",
       "      <td>...</td>\n",
       "      <td>...</td>\n",
       "      <td>...</td>\n",
       "      <td>...</td>\n",
       "      <td>...</td>\n",
       "      <td>...</td>\n",
       "      <td>...</td>\n",
       "      <td>...</td>\n",
       "      <td>...</td>\n",
       "      <td>...</td>\n",
       "      <td>...</td>\n",
       "    </tr>\n",
       "    <tr>\n",
       "      <th>5540</th>\n",
       "      <td>81imud</td>\n",
       "      <td>2018-03-02 21:41:43</td>\n",
       "      <td>Whats the deal with this moon baby?</td>\n",
       "      <td>I still cant find anyone talking about it.\\n\\n...</td>\n",
       "      <td>0</td>\n",
       "      <td>0.50</td>\n",
       "      <td>https://www.reddit.com/r/CryptoMoonShots/comme...</td>\n",
       "      <td>0</td>\n",
       "      <td>True</td>\n",
       "      <td>7</td>\n",
       "      <td>198</td>\n",
       "      <td>whats deal moon baby ?</td>\n",
       "      <td>0.0000</td>\n",
       "    </tr>\n",
       "    <tr>\n",
       "      <th>5541</th>\n",
       "      <td>7vqu3h</td>\n",
       "      <td>2018-02-06 21:34:59</td>\n",
       "      <td>Aigang - Way Undervalued at its $9mil market c...</td>\n",
       "      <td>notexthere</td>\n",
       "      <td>5</td>\n",
       "      <td>0.57</td>\n",
       "      <td>https://medium.com/aigang-network/aigang-dev-u...</td>\n",
       "      <td>0</td>\n",
       "      <td>False</td>\n",
       "      <td>21</td>\n",
       "      <td>1</td>\n",
       "      <td>aigang - way undervalued $ 9mil market cap . g...</td>\n",
       "      <td>0.7906</td>\n",
       "    </tr>\n",
       "    <tr>\n",
       "      <th>5542</th>\n",
       "      <td>7urukk</td>\n",
       "      <td>2018-02-02 15:01:36</td>\n",
       "      <td>ELTCOIN Is Only 3 Cents.. Could This Crypto Cu...</td>\n",
       "      <td>notexthere</td>\n",
       "      <td>0</td>\n",
       "      <td>0.50</td>\n",
       "      <td>http://blogforbitcoin.com/eltcoin-is-only-3-ce...</td>\n",
       "      <td>0</td>\n",
       "      <td>False</td>\n",
       "      <td>11</td>\n",
       "      <td>1</td>\n",
       "      <td>eltcoin 3 cent .. could crypto currency go 100x ?</td>\n",
       "      <td>0.0000</td>\n",
       "    </tr>\n",
       "    <tr>\n",
       "      <th>5543</th>\n",
       "      <td>7untqv</td>\n",
       "      <td>2018-02-02 01:33:52</td>\n",
       "      <td>PACCoin, reborn. Read em and weep.</td>\n",
       "      <td>notexthere</td>\n",
       "      <td>6</td>\n",
       "      <td>0.63</td>\n",
       "      <td>http://download.paccoin.net/PAC_White_Paper_20...</td>\n",
       "      <td>0</td>\n",
       "      <td>False</td>\n",
       "      <td>6</td>\n",
       "      <td>1</td>\n",
       "      <td>paccoin , reborn . read em weep .</td>\n",
       "      <td>-0.5719</td>\n",
       "    </tr>\n",
       "    <tr>\n",
       "      <th>5544</th>\n",
       "      <td>7orodz</td>\n",
       "      <td>2018-01-07 16:58:13</td>\n",
       "      <td>Anyone Like BBC?</td>\n",
       "      <td>Thoughts on BBC? Will it continue to grow?</td>\n",
       "      <td>4</td>\n",
       "      <td>0.59</td>\n",
       "      <td>https://www.reddit.com/r/CryptoMoonShots/comme...</td>\n",
       "      <td>0</td>\n",
       "      <td>True</td>\n",
       "      <td>3</td>\n",
       "      <td>8</td>\n",
       "      <td>anyone like bbc ?</td>\n",
       "      <td>0.3612</td>\n",
       "    </tr>\n",
       "  </tbody>\n",
       "</table>\n",
       "<p>5545 rows × 13 columns</p>\n",
       "</div>"
      ],
      "text/plain": [
       "           id             datetime  \\\n",
       "0     1dzdf1j  2024-07-09 21:00:53   \n",
       "1     1dzdebj  2024-07-09 21:00:11   \n",
       "2     1dzd0u6  2024-07-09 20:44:37   \n",
       "3     1dzckvv  2024-07-09 20:26:14   \n",
       "4     1dzcjix  2024-07-09 20:24:41   \n",
       "...       ...                  ...   \n",
       "5540   81imud  2018-03-02 21:41:43   \n",
       "5541   7vqu3h  2018-02-06 21:34:59   \n",
       "5542   7urukk  2018-02-02 15:01:36   \n",
       "5543   7untqv  2018-02-02 01:33:52   \n",
       "5544   7orodz  2018-01-07 16:58:13   \n",
       "\n",
       "                                                  title  \\\n",
       "0                                $Sofi is coming back .   \n",
       "1                           What’s going on with BABA?    \n",
       "2                       ZI Yolo better late than early    \n",
       "3                         We are already in a recession   \n",
       "4     🍔McDonalds🍔: At ATL in 52 weeks. How to make y...   \n",
       "...                                                 ...   \n",
       "5540                Whats the deal with this moon baby?   \n",
       "5541  Aigang - Way Undervalued at its $9mil market c...   \n",
       "5542  ELTCOIN Is Only 3 Cents.. Could This Crypto Cu...   \n",
       "5543                 PACCoin, reborn. Read em and weep.   \n",
       "5544                                   Anyone Like BBC?   \n",
       "\n",
       "                                                   text  score  upvote_ratio  \\\n",
       "0                          I suggest you buy and hold .      3          0.71   \n",
       "1     The stock has performed really poorly over the...      2          0.67   \n",
       "2     DD was some guy posted about seeing a high vol...      2          0.75   \n",
       "3                                            notexthere      3          0.57   \n",
       "4     Hello gentleman. \\n\\nFirst of all, the only DD...      1          0.55   \n",
       "...                                                 ...    ...           ...   \n",
       "5540  I still cant find anyone talking about it.\\n\\n...      0          0.50   \n",
       "5541                                         notexthere      5          0.57   \n",
       "5542                                         notexthere      0          0.50   \n",
       "5543                                         notexthere      6          0.63   \n",
       "5544         Thoughts on BBC? Will it continue to grow?      4          0.59   \n",
       "\n",
       "                                                    url  subreddit  has_text  \\\n",
       "0                  https://i.redd.it/ffwh4k2u4kbd1.jpeg          1      True   \n",
       "1     https://www.reddit.com/r/wallstreetbets/commen...          1      True   \n",
       "2                  https://i.redd.it/a2n775jx1kbd1.jpeg          1      True   \n",
       "3                   https://i.redd.it/1uao7vklyjbd1.png          1     False   \n",
       "4     https://www.reddit.com/r/wallstreetbets/commen...          1      True   \n",
       "...                                                 ...        ...       ...   \n",
       "5540  https://www.reddit.com/r/CryptoMoonShots/comme...          0      True   \n",
       "5541  https://medium.com/aigang-network/aigang-dev-u...          0     False   \n",
       "5542  http://blogforbitcoin.com/eltcoin-is-only-3-ce...          0     False   \n",
       "5543  http://download.paccoin.net/PAC_White_Paper_20...          0     False   \n",
       "5544  https://www.reddit.com/r/CryptoMoonShots/comme...          0      True   \n",
       "\n",
       "      title_len  text_len                                    processed_title  \\\n",
       "0             5         7                               $ sofi coming back .   \n",
       "1             6        84                                     ’ going baba ?   \n",
       "2             7        14                          zi yolo better late early   \n",
       "3             6         1                                  already recession   \n",
       "4            16       138  🍔mcdonalds🍔 : atl 52 week . make easiest profi...   \n",
       "...         ...       ...                                                ...   \n",
       "5540          7       198                             whats deal moon baby ?   \n",
       "5541         21         1  aigang - way undervalued $ 9mil market cap . g...   \n",
       "5542         11         1  eltcoin 3 cent .. could crypto currency go 100x ?   \n",
       "5543          6         1                  paccoin , reborn . read em weep .   \n",
       "5544          3         8                                  anyone like bbc ?   \n",
       "\n",
       "      sentiment_score  \n",
       "0              0.0000  \n",
       "1              0.0000  \n",
       "2              0.6124  \n",
       "3             -0.4215  \n",
       "4              0.6908  \n",
       "...               ...  \n",
       "5540           0.0000  \n",
       "5541           0.7906  \n",
       "5542           0.0000  \n",
       "5543          -0.5719  \n",
       "5544           0.3612  \n",
       "\n",
       "[5545 rows x 13 columns]"
      ]
     },
     "execution_count": 29,
     "metadata": {},
     "output_type": "execute_result"
    }
   ],
   "source": [
    "data"
   ]
  },
  {
   "cell_type": "code",
   "execution_count": 86,
   "id": "b8a2b653-699e-4a30-a78e-109614937cb7",
   "metadata": {},
   "outputs": [
    {
     "name": "stdout",
     "output_type": "stream",
     "text": [
      "<class 'pandas.core.frame.DataFrame'>\n",
      "RangeIndex: 5545 entries, 0 to 5544\n",
      "Data columns (total 13 columns):\n",
      " #   Column           Non-Null Count  Dtype  \n",
      "---  ------           --------------  -----  \n",
      " 0   id               5545 non-null   object \n",
      " 1   datetime         5545 non-null   object \n",
      " 2   title            5545 non-null   object \n",
      " 3   text             5544 non-null   object \n",
      " 4   score            5545 non-null   int64  \n",
      " 5   upvote_ratio     5545 non-null   float64\n",
      " 6   url              5545 non-null   object \n",
      " 7   subreddit        5545 non-null   int64  \n",
      " 8   has_text         5545 non-null   bool   \n",
      " 9   title_len        5545 non-null   int64  \n",
      " 10  text_len         5545 non-null   int64  \n",
      " 11  processed_title  5545 non-null   object \n",
      " 12  sentiment_score  5545 non-null   float64\n",
      "dtypes: bool(1), float64(2), int64(4), object(6)\n",
      "memory usage: 525.4+ KB\n"
     ]
    }
   ],
   "source": [
    "data.info()"
   ]
  },
  {
   "cell_type": "code",
   "execution_count": 31,
   "id": "87da5aba-dd29-4d99-bace-9d8741ed0a32",
   "metadata": {},
   "outputs": [
    {
     "data": {
      "image/png": "[encoded data removed]",
      "text/plain": [
       "<Figure size 1000x600 with 1 Axes>"
      ]
     },
     "metadata": {},
     "output_type": "display_data"
    }
   ],
   "source": [
    "import seaborn as sns\n",
    "import matplotlib.pyplot as plt\n",
    "\n",
    "# Create a new DataFrame with sentiment scores and subreddit mapping\n",
    "sentiment_df = pd.DataFrame({'sentiment_score': data['sentiment_score'], 'subreddit': data['subreddit']})\n",
    "\n",
    "# Map subreddit values to their respective names\n",
    "sentiment_df['subreddit'] = sentiment_df['subreddit'].map({1: 'r/wallstreetbets', 0: 'r/CryptoMoonShots'})\n",
    "\n",
    "# Plot the distribution of sentiment scores\n",
    "plt.figure(figsize=(10, 6))\n",
    "sns.histplot(data=sentiment_df, x='sentiment_score', hue='subreddit', kde=True, bins=30, palette='viridis')\n",
    "plt.title('Distribution of Sentiment Scores by Subreddit')\n",
    "plt.xlabel('Sentiment Score')\n",
    "plt.ylabel('Count')\n",
    "plt.show()"
   ]
  },
  {
   "cell_type": "markdown",
   "id": "8d0368a2-a9cf-4bcd-b812-d334b6ba8682",
   "metadata": {},
   "source": [
    "Baseline"
   ]
  },
  {
   "cell_type": "code",
   "execution_count": 34,
   "id": "d915abe3-3d38-45aa-b880-019f911ca5d4",
   "metadata": {},
   "outputs": [],
   "source": [
    "X = data['processed_title']\n",
    "y = data['subreddit']"
   ]
  },
  {
   "cell_type": "code",
   "execution_count": 35,
   "id": "5b5f394f-af8c-480d-bf36-fad68036ab46",
   "metadata": {},
   "outputs": [],
   "source": [
    "X_train, X_test, y_train, y_test = train_test_split(X, y, test_size=0.2, random_state=42)"
   ]
  },
  {
   "cell_type": "code",
   "execution_count": 36,
   "id": "f3d25c24-468e-4b4b-9b4e-a7ab2e8f41f2",
   "metadata": {},
   "outputs": [],
   "source": [
    "baseline = (y_test == y_train.mode()[0]).mean()"
   ]
  },
  {
   "cell_type": "code",
   "execution_count": 37,
   "id": "3474c9fa-fc17-4974-ac34-da967ba0a047",
   "metadata": {},
   "outputs": [
    {
     "data": {
      "text/plain": [
       "0.5193868349864743"
      ]
     },
     "execution_count": 37,
     "metadata": {},
     "output_type": "execute_result"
    }
   ],
   "source": [
    "baseline"
   ]
  },
  {
   "cell_type": "code",
   "execution_count": null,
   "id": "1bf15ef0-723f-4c6d-9d4a-c7f3692d88f3",
   "metadata": {},
   "outputs": [],
   "source": []
  },
  {
   "cell_type": "code",
   "execution_count": 42,
   "id": "5e0a1824-28d9-4377-8ec9-ab5690974f77",
   "metadata": {},
   "outputs": [],
   "source": [
    "# Define the pipeline for Logistic Regression with CountVectorizer\n",
    "logreg_pipe_cv = Pipeline([\n",
    "    ('vectorizer', CountVectorizer()),\n",
    "    ('classifier', LogisticRegression())\n",
    "])\n"
   ]
  },
  {
   "cell_type": "code",
   "execution_count": 43,
   "id": "2b847661-ef1b-4d3e-aa6c-e1b62924c7da",
   "metadata": {},
   "outputs": [],
   "source": [
    "# Define the parameter grid for grid search\n",
    "logreg_param_grid = {\n",
    "    'vectorizer__ngram_range': [(1, 1), (1, 2), (2,3)],  # unigrams or bigrams or trigrams\n",
    "    'vectorizer__max_df': [0.5, 0.75, 1.0],  # maximum document frequency\n",
    "    'classifier__C': [0.1, 1, 10]  # regularization parameter\n",
    "}"
   ]
  },
  {
   "cell_type": "code",
   "execution_count": 44,
   "id": "5e698538-4723-4701-b613-8a2ccbf70433",
   "metadata": {},
   "outputs": [
    {
     "data": {
      "text/html": [
       "<style>#sk-container-id-2 {color: black;}#sk-container-id-2 pre{padding: 0;}#sk-container-id-2 div.sk-toggleable {background-color: white;}#sk-container-id-2 label.sk-toggleable__label {cursor: pointer;display: block;width: 100%;margin-bottom: 0;padding: 0.3em;box-sizing: border-box;text-align: center;}#sk-container-id-2 label.sk-toggleable__label-arrow:before {content: \"▸\";float: left;margin-right: 0.25em;color: #696969;}#sk-container-id-2 label.sk-toggleable__label-arrow:hover:before {color: black;}#sk-container-id-2 div.sk-estimator:hover label.sk-toggleable__label-arrow:before {color: black;}#sk-container-id-2 div.sk-toggleable__content {max-height: 0;max-width: 0;overflow: hidden;text-align: left;background-color: #f0f8ff;}#sk-container-id-2 div.sk-toggleable__content pre {margin: 0.2em;color: black;border-radius: 0.25em;background-color: #f0f8ff;}#sk-container-id-2 input.sk-toggleable__control:checked~div.sk-toggleable__content {max-height: 200px;max-width: 100%;overflow: auto;}#sk-container-id-2 input.sk-toggleable__control:checked~label.sk-toggleable__label-arrow:before {content: \"▾\";}#sk-container-id-2 div.sk-estimator input.sk-toggleable__control:checked~label.sk-toggleable__label {background-color: #d4ebff;}#sk-container-id-2 div.sk-label input.sk-toggleable__control:checked~label.sk-toggleable__label {background-color: #d4ebff;}#sk-container-id-2 input.sk-hidden--visually {border: 0;clip: rect(1px 1px 1px 1px);clip: rect(1px, 1px, 1px, 1px);height: 1px;margin: -1px;overflow: hidden;padding: 0;position: absolute;width: 1px;}#sk-container-id-2 div.sk-estimator {font-family: monospace;background-color: #f0f8ff;border: 1px dotted black;border-radius: 0.25em;box-sizing: border-box;margin-bottom: 0.5em;}#sk-container-id-2 div.sk-estimator:hover {background-color: #d4ebff;}#sk-container-id-2 div.sk-parallel-item::after {content: \"\";width: 100%;border-bottom: 1px solid gray;flex-grow: 1;}#sk-container-id-2 div.sk-label:hover label.sk-toggleable__label {background-color: #d4ebff;}#sk-container-id-2 div.sk-serial::before {content: \"\";position: absolute;border-left: 1px solid gray;box-sizing: border-box;top: 0;bottom: 0;left: 50%;z-index: 0;}#sk-container-id-2 div.sk-serial {display: flex;flex-direction: column;align-items: center;background-color: white;padding-right: 0.2em;padding-left: 0.2em;position: relative;}#sk-container-id-2 div.sk-item {position: relative;z-index: 1;}#sk-container-id-2 div.sk-parallel {display: flex;align-items: stretch;justify-content: center;background-color: white;position: relative;}#sk-container-id-2 div.sk-item::before, #sk-container-id-2 div.sk-parallel-item::before {content: \"\";position: absolute;border-left: 1px solid gray;box-sizing: border-box;top: 0;bottom: 0;left: 50%;z-index: -1;}#sk-container-id-2 div.sk-parallel-item {display: flex;flex-direction: column;z-index: 1;position: relative;background-color: white;}#sk-container-id-2 div.sk-parallel-item:first-child::after {align-self: flex-end;width: 50%;}#sk-container-id-2 div.sk-parallel-item:last-child::after {align-self: flex-start;width: 50%;}#sk-container-id-2 div.sk-parallel-item:only-child::after {width: 0;}#sk-container-id-2 div.sk-dashed-wrapped {border: 1px dashed gray;margin: 0 0.4em 0.5em 0.4em;box-sizing: border-box;padding-bottom: 0.4em;background-color: white;}#sk-container-id-2 div.sk-label label {font-family: monospace;font-weight: bold;display: inline-block;line-height: 1.2em;}#sk-container-id-2 div.sk-label-container {text-align: center;}#sk-container-id-2 div.sk-container {/* jupyter's `normalize.less` sets `[hidden] { display: none; }` but bootstrap.min.css set `[hidden] { display: none !important; }` so we also need the `!important` here to be able to override the default hidden behavior on the sphinx rendered scikit-learn.org. See: https://github.com/scikit-learn/scikit-learn/issues/21755 */display: inline-block !important;position: relative;}#sk-container-id-2 div.sk-text-repr-fallback {display: none;}</style><div id=\"sk-container-id-2\" class=\"sk-top-container\"><div class=\"sk-text-repr-fallback\"><pre>GridSearchCV(cv=5,\n",
       "             estimator=Pipeline(steps=[(&#x27;vectorizer&#x27;, CountVectorizer()),\n",
       "                                       (&#x27;classifier&#x27;, LogisticRegression())]),\n",
       "             param_grid={&#x27;classifier__C&#x27;: [0.1, 1, 10],\n",
       "                         &#x27;vectorizer__max_df&#x27;: [0.5, 0.75, 1.0],\n",
       "                         &#x27;vectorizer__ngram_range&#x27;: [(1, 1), (1, 2), (2, 3)]})</pre><b>In a Jupyter environment, please rerun this cell to show the HTML representation or trust the notebook. <br />On GitHub, the HTML representation is unable to render, please try loading this page with nbviewer.org.</b></div><div class=\"sk-container\" hidden><div class=\"sk-item sk-dashed-wrapped\"><div class=\"sk-label-container\"><div class=\"sk-label sk-toggleable\"><input class=\"sk-toggleable__control sk-hidden--visually\" id=\"sk-estimator-id-5\" type=\"checkbox\" ><label for=\"sk-estimator-id-5\" class=\"sk-toggleable__label sk-toggleable__label-arrow\">GridSearchCV</label><div class=\"sk-toggleable__content\"><pre>GridSearchCV(cv=5,\n",
       "             estimator=Pipeline(steps=[(&#x27;vectorizer&#x27;, CountVectorizer()),\n",
       "                                       (&#x27;classifier&#x27;, LogisticRegression())]),\n",
       "             param_grid={&#x27;classifier__C&#x27;: [0.1, 1, 10],\n",
       "                         &#x27;vectorizer__max_df&#x27;: [0.5, 0.75, 1.0],\n",
       "                         &#x27;vectorizer__ngram_range&#x27;: [(1, 1), (1, 2), (2, 3)]})</pre></div></div></div><div class=\"sk-parallel\"><div class=\"sk-parallel-item\"><div class=\"sk-item\"><div class=\"sk-label-container\"><div class=\"sk-label sk-toggleable\"><input class=\"sk-toggleable__control sk-hidden--visually\" id=\"sk-estimator-id-6\" type=\"checkbox\" ><label for=\"sk-estimator-id-6\" class=\"sk-toggleable__label sk-toggleable__label-arrow\">estimator: Pipeline</label><div class=\"sk-toggleable__content\"><pre>Pipeline(steps=[(&#x27;vectorizer&#x27;, CountVectorizer()),\n",
       "                (&#x27;classifier&#x27;, LogisticRegression())])</pre></div></div></div><div class=\"sk-serial\"><div class=\"sk-item\"><div class=\"sk-serial\"><div class=\"sk-item\"><div class=\"sk-estimator sk-toggleable\"><input class=\"sk-toggleable__control sk-hidden--visually\" id=\"sk-estimator-id-7\" type=\"checkbox\" ><label for=\"sk-estimator-id-7\" class=\"sk-toggleable__label sk-toggleable__label-arrow\">CountVectorizer</label><div class=\"sk-toggleable__content\"><pre>CountVectorizer()</pre></div></div></div><div class=\"sk-item\"><div class=\"sk-estimator sk-toggleable\"><input class=\"sk-toggleable__control sk-hidden--visually\" id=\"sk-estimator-id-8\" type=\"checkbox\" ><label for=\"sk-estimator-id-8\" class=\"sk-toggleable__label sk-toggleable__label-arrow\">LogisticRegression</label><div class=\"sk-toggleable__content\"><pre>LogisticRegression()</pre></div></div></div></div></div></div></div></div></div></div></div></div>"
      ],
      "text/plain": [
       "GridSearchCV(cv=5,\n",
       "             estimator=Pipeline(steps=[('vectorizer', CountVectorizer()),\n",
       "                                       ('classifier', LogisticRegression())]),\n",
       "             param_grid={'classifier__C': [0.1, 1, 10],\n",
       "                         'vectorizer__max_df': [0.5, 0.75, 1.0],\n",
       "                         'vectorizer__ngram_range': [(1, 1), (1, 2), (2, 3)]})"
      ]
     },
     "execution_count": 44,
     "metadata": {},
     "output_type": "execute_result"
    }
   ],
   "source": [
    "# Perform grid search\n",
    "logreg_grid_cv = GridSearchCV(logreg_pipe_cv, logreg_param_grid, cv=5)\n",
    "logreg_grid_cv.fit(X_train, y_train)"
   ]
  },
  {
   "cell_type": "code",
   "execution_count": 45,
   "id": "0f69691e-759e-4e97-b395-3edafffc3c07",
   "metadata": {},
   "outputs": [
    {
     "name": "stdout",
     "output_type": "stream",
     "text": [
      "Best parameters for Logistic Regression with CountVectorizer: {'classifier__C': 10, 'vectorizer__max_df': 0.5, 'vectorizer__ngram_range': (1, 1)}\n",
      "Training Accuracy score for Logistic Regression with CountVectorizer: 0.9283141371360086\n"
     ]
    }
   ],
   "source": [
    "# Print the best parameters and the accuracy score\n",
    "print(\"Best parameters for Logistic Regression with CountVectorizer:\", logreg_grid_cv.best_params_)\n",
    "print(\"Training Accuracy score for Logistic Regression with CountVectorizer:\", logreg_grid_cv.best_score_)"
   ]
  },
  {
   "cell_type": "code",
   "execution_count": 46,
   "id": "16913e4d-9610-4919-bdc5-286c9a890565",
   "metadata": {},
   "outputs": [
    {
     "name": "stdout",
     "output_type": "stream",
     "text": [
      "Accuracy Score: 0.9269612263300271\n"
     ]
    }
   ],
   "source": [
    "from sklearn.metrics import accuracy_score, classification_report, confusion_matrix, ConfusionMatrixDisplay\n",
    "\n",
    "# Make predictions on the test data\n",
    "y_pred = logreg_grid_cv.predict(X_test)\n",
    "\n",
    "# Calculate accuracy score\n",
    "accuracy = accuracy_score(y_test, y_pred)\n",
    "print(\"Accuracy Score:\", accuracy)"
   ]
  },
  {
   "cell_type": "code",
   "execution_count": 91,
   "id": "a0d6412c-7a2b-411c-b489-207174ec65d3",
   "metadata": {},
   "outputs": [
    {
     "name": "stdout",
     "output_type": "stream",
     "text": [
      "Classification Report for Logistic Regression:\n",
      "              precision    recall  f1-score   support\n",
      "\n",
      "           0       0.97      0.87      0.92       533\n",
      "           1       0.89      0.98      0.93       576\n",
      "\n",
      "    accuracy                           0.93      1109\n",
      "   macro avg       0.93      0.92      0.93      1109\n",
      "weighted avg       0.93      0.93      0.93      1109\n",
      "\n"
     ]
    }
   ],
   "source": [
    "# Generate and print the classification report\n",
    "print(\"Classification Report for Logistic Regression:\")\n",
    "print(classification_report(y_test, y_pred))"
   ]
  },
  {
   "cell_type": "markdown",
   "id": "c3a407f9-bca2-4623-898b-e7ff5d48fb0f",
   "metadata": {},
   "source": [
    "#### Logistic Regression:\r\n",
    "- Precision: The model has a high precision fohCryptoMoonshotss around 0.97,, indicating that when it predictsthata subreddit, it is correct the majority of the time However, the precision for r/wallstreetbets is not as high, below .90, at 0.89.\r\n",
    "- Recall: The model has high recall f r/wallstreetbetsts, indicating that it can effectively identify the majority of the posts fothech subreddit.\r\n",
    "- F1-score: The F1-score balances precision and recall, and it is high for both subreddits, indicating a good overall performance.\r\n",
    "- Accuracy: The model has an accuracy of 93%, indicating the proportion of correctly classified samples."
   ]
  },
  {
   "cell_type": "code",
   "execution_count": 48,
   "id": "2772174d-55b4-4418-a678-1c93df46f360",
   "metadata": {},
   "outputs": [
    {
     "data": {
      "image/png": "[encoded data removed]",
      "text/plain": [
       "<Figure size 640x480 with 2 Axes>"
      ]
     },
     "metadata": {},
     "output_type": "display_data"
    }
   ],
   "source": [
    "# Generate and plot the confusion matrix\n",
    "cm = confusion_matrix(y_test, y_pred, labels=logreg_grid_cv.classes_)\n",
    "disp = ConfusionMatrixDisplay(confusion_matrix=cm, display_labels=logreg_grid_cv.classes_)\n",
    "disp.plot(cmap='Blues')\n",
    "plt.title('Confusion Matrix for Logistic Regression with CountVectorizer')\n",
    "plt.show()"
   ]
  },
  {
   "cell_type": "code",
   "execution_count": 50,
   "id": "18044743-56ae-401a-b518-b6b2fc3b0ab1",
   "metadata": {},
   "outputs": [],
   "source": [
    "# Define the pipeline for Multinomial Naive Bayes with TfidfVectorizer\n",
    "nb_pipe_tfidf = Pipeline([\n",
    "    ('vectorizer', TfidfVectorizer()),\n",
    "    ('classifier', MultinomialNB())\n",
    "])"
   ]
  },
  {
   "cell_type": "code",
   "execution_count": 51,
   "id": "0bdd1fcb-bd50-4c7a-a7ff-667315e8592f",
   "metadata": {},
   "outputs": [],
   "source": [
    "# Define the parameter grid for grid search\n",
    "nb_param_grid = {\n",
    "    'vectorizer__ngram_range': [(1, 1), (1, 2)],  # unigrams or bigrams\n",
    "    'vectorizer__max_df': [0.5, 0.75, 1.0],  # maximum document frequency\n",
    "    'classifier__alpha': [0.1, 1, 10]  # additive (Laplace/Lidstone) smoothing parameter\n",
    "}"
   ]
  },
  {
   "cell_type": "code",
   "execution_count": 52,
   "id": "cd92ff17-be6b-4bba-932b-f08946d5f680",
   "metadata": {},
   "outputs": [
    {
     "data": {
      "text/html": [
       "<style>#sk-container-id-3 {color: black;}#sk-container-id-3 pre{padding: 0;}#sk-container-id-3 div.sk-toggleable {background-color: white;}#sk-container-id-3 label.sk-toggleable__label {cursor: pointer;display: block;width: 100%;margin-bottom: 0;padding: 0.3em;box-sizing: border-box;text-align: center;}#sk-container-id-3 label.sk-toggleable__label-arrow:before {content: \"▸\";float: left;margin-right: 0.25em;color: #696969;}#sk-container-id-3 label.sk-toggleable__label-arrow:hover:before {color: black;}#sk-container-id-3 div.sk-estimator:hover label.sk-toggleable__label-arrow:before {color: black;}#sk-container-id-3 div.sk-toggleable__content {max-height: 0;max-width: 0;overflow: hidden;text-align: left;background-color: #f0f8ff;}#sk-container-id-3 div.sk-toggleable__content pre {margin: 0.2em;color: black;border-radius: 0.25em;background-color: #f0f8ff;}#sk-container-id-3 input.sk-toggleable__control:checked~div.sk-toggleable__content {max-height: 200px;max-width: 100%;overflow: auto;}#sk-container-id-3 input.sk-toggleable__control:checked~label.sk-toggleable__label-arrow:before {content: \"▾\";}#sk-container-id-3 div.sk-estimator input.sk-toggleable__control:checked~label.sk-toggleable__label {background-color: #d4ebff;}#sk-container-id-3 div.sk-label input.sk-toggleable__control:checked~label.sk-toggleable__label {background-color: #d4ebff;}#sk-container-id-3 input.sk-hidden--visually {border: 0;clip: rect(1px 1px 1px 1px);clip: rect(1px, 1px, 1px, 1px);height: 1px;margin: -1px;overflow: hidden;padding: 0;position: absolute;width: 1px;}#sk-container-id-3 div.sk-estimator {font-family: monospace;background-color: #f0f8ff;border: 1px dotted black;border-radius: 0.25em;box-sizing: border-box;margin-bottom: 0.5em;}#sk-container-id-3 div.sk-estimator:hover {background-color: #d4ebff;}#sk-container-id-3 div.sk-parallel-item::after {content: \"\";width: 100%;border-bottom: 1px solid gray;flex-grow: 1;}#sk-container-id-3 div.sk-label:hover label.sk-toggleable__label {background-color: #d4ebff;}#sk-container-id-3 div.sk-serial::before {content: \"\";position: absolute;border-left: 1px solid gray;box-sizing: border-box;top: 0;bottom: 0;left: 50%;z-index: 0;}#sk-container-id-3 div.sk-serial {display: flex;flex-direction: column;align-items: center;background-color: white;padding-right: 0.2em;padding-left: 0.2em;position: relative;}#sk-container-id-3 div.sk-item {position: relative;z-index: 1;}#sk-container-id-3 div.sk-parallel {display: flex;align-items: stretch;justify-content: center;background-color: white;position: relative;}#sk-container-id-3 div.sk-item::before, #sk-container-id-3 div.sk-parallel-item::before {content: \"\";position: absolute;border-left: 1px solid gray;box-sizing: border-box;top: 0;bottom: 0;left: 50%;z-index: -1;}#sk-container-id-3 div.sk-parallel-item {display: flex;flex-direction: column;z-index: 1;position: relative;background-color: white;}#sk-container-id-3 div.sk-parallel-item:first-child::after {align-self: flex-end;width: 50%;}#sk-container-id-3 div.sk-parallel-item:last-child::after {align-self: flex-start;width: 50%;}#sk-container-id-3 div.sk-parallel-item:only-child::after {width: 0;}#sk-container-id-3 div.sk-dashed-wrapped {border: 1px dashed gray;margin: 0 0.4em 0.5em 0.4em;box-sizing: border-box;padding-bottom: 0.4em;background-color: white;}#sk-container-id-3 div.sk-label label {font-family: monospace;font-weight: bold;display: inline-block;line-height: 1.2em;}#sk-container-id-3 div.sk-label-container {text-align: center;}#sk-container-id-3 div.sk-container {/* jupyter's `normalize.less` sets `[hidden] { display: none; }` but bootstrap.min.css set `[hidden] { display: none !important; }` so we also need the `!important` here to be able to override the default hidden behavior on the sphinx rendered scikit-learn.org. See: https://github.com/scikit-learn/scikit-learn/issues/21755 */display: inline-block !important;position: relative;}#sk-container-id-3 div.sk-text-repr-fallback {display: none;}</style><div id=\"sk-container-id-3\" class=\"sk-top-container\"><div class=\"sk-text-repr-fallback\"><pre>GridSearchCV(cv=5,\n",
       "             estimator=Pipeline(steps=[(&#x27;vectorizer&#x27;, TfidfVectorizer()),\n",
       "                                       (&#x27;classifier&#x27;, MultinomialNB())]),\n",
       "             param_grid={&#x27;classifier__alpha&#x27;: [0.1, 1, 10],\n",
       "                         &#x27;vectorizer__max_df&#x27;: [0.5, 0.75, 1.0],\n",
       "                         &#x27;vectorizer__ngram_range&#x27;: [(1, 1), (1, 2)]})</pre><b>In a Jupyter environment, please rerun this cell to show the HTML representation or trust the notebook. <br />On GitHub, the HTML representation is unable to render, please try loading this page with nbviewer.org.</b></div><div class=\"sk-container\" hidden><div class=\"sk-item sk-dashed-wrapped\"><div class=\"sk-label-container\"><div class=\"sk-label sk-toggleable\"><input class=\"sk-toggleable__control sk-hidden--visually\" id=\"sk-estimator-id-9\" type=\"checkbox\" ><label for=\"sk-estimator-id-9\" class=\"sk-toggleable__label sk-toggleable__label-arrow\">GridSearchCV</label><div class=\"sk-toggleable__content\"><pre>GridSearchCV(cv=5,\n",
       "             estimator=Pipeline(steps=[(&#x27;vectorizer&#x27;, TfidfVectorizer()),\n",
       "                                       (&#x27;classifier&#x27;, MultinomialNB())]),\n",
       "             param_grid={&#x27;classifier__alpha&#x27;: [0.1, 1, 10],\n",
       "                         &#x27;vectorizer__max_df&#x27;: [0.5, 0.75, 1.0],\n",
       "                         &#x27;vectorizer__ngram_range&#x27;: [(1, 1), (1, 2)]})</pre></div></div></div><div class=\"sk-parallel\"><div class=\"sk-parallel-item\"><div class=\"sk-item\"><div class=\"sk-label-container\"><div class=\"sk-label sk-toggleable\"><input class=\"sk-toggleable__control sk-hidden--visually\" id=\"sk-estimator-id-10\" type=\"checkbox\" ><label for=\"sk-estimator-id-10\" class=\"sk-toggleable__label sk-toggleable__label-arrow\">estimator: Pipeline</label><div class=\"sk-toggleable__content\"><pre>Pipeline(steps=[(&#x27;vectorizer&#x27;, TfidfVectorizer()),\n",
       "                (&#x27;classifier&#x27;, MultinomialNB())])</pre></div></div></div><div class=\"sk-serial\"><div class=\"sk-item\"><div class=\"sk-serial\"><div class=\"sk-item\"><div class=\"sk-estimator sk-toggleable\"><input class=\"sk-toggleable__control sk-hidden--visually\" id=\"sk-estimator-id-11\" type=\"checkbox\" ><label for=\"sk-estimator-id-11\" class=\"sk-toggleable__label sk-toggleable__label-arrow\">TfidfVectorizer</label><div class=\"sk-toggleable__content\"><pre>TfidfVectorizer()</pre></div></div></div><div class=\"sk-item\"><div class=\"sk-estimator sk-toggleable\"><input class=\"sk-toggleable__control sk-hidden--visually\" id=\"sk-estimator-id-12\" type=\"checkbox\" ><label for=\"sk-estimator-id-12\" class=\"sk-toggleable__label sk-toggleable__label-arrow\">MultinomialNB</label><div class=\"sk-toggleable__content\"><pre>MultinomialNB()</pre></div></div></div></div></div></div></div></div></div></div></div></div>"
      ],
      "text/plain": [
       "GridSearchCV(cv=5,\n",
       "             estimator=Pipeline(steps=[('vectorizer', TfidfVectorizer()),\n",
       "                                       ('classifier', MultinomialNB())]),\n",
       "             param_grid={'classifier__alpha': [0.1, 1, 10],\n",
       "                         'vectorizer__max_df': [0.5, 0.75, 1.0],\n",
       "                         'vectorizer__ngram_range': [(1, 1), (1, 2)]})"
      ]
     },
     "execution_count": 52,
     "metadata": {},
     "output_type": "execute_result"
    }
   ],
   "source": [
    "# Perform grid search\n",
    "nb_grid_tfidf = GridSearchCV(nb_pipe_tfidf, nb_param_grid, cv=5)\n",
    "nb_grid_tfidf.fit(X_train, y_train)"
   ]
  },
  {
   "cell_type": "code",
   "execution_count": 53,
   "id": "184e13d5-823a-4c0d-a9fa-f53c8060810f",
   "metadata": {},
   "outputs": [
    {
     "name": "stdout",
     "output_type": "stream",
     "text": [
      "Best parameters for Multinomial Naive Bayes with TfidfVectorizer: {'classifier__alpha': 1, 'vectorizer__max_df': 0.5, 'vectorizer__ngram_range': (1, 1)}\n",
      "Accuracy score for Multinomial Naive Bayes with TfidfVectorizer: 0.927862671013742\n"
     ]
    }
   ],
   "source": [
    "# Print the best parameters and the accuracy score\n",
    "print(\"Best parameters for Multinomial Naive Bayes with TfidfVectorizer:\", nb_grid_tfidf.best_params_)\n",
    "print(\"Accuracy score for Multinomial Naive Bayes with TfidfVectorizer:\", nb_grid_tfidf.best_score_)"
   ]
  },
  {
   "cell_type": "code",
   "execution_count": 54,
   "id": "3ffa6e08-6649-4b0b-b380-ff70794f0d89",
   "metadata": {},
   "outputs": [],
   "source": [
    "# Make predictions on the test data\n",
    "y_pred_nb = nb_grid_tfidf.predict(X_test)"
   ]
  },
  {
   "cell_type": "code",
   "execution_count": 55,
   "id": "ed58bb6f-5841-4c5b-ae5d-fa5a4fbf0cfa",
   "metadata": {},
   "outputs": [
    {
     "name": "stdout",
     "output_type": "stream",
     "text": [
      "Accuracy Score for Multinomial Naive Bayes: 0.9287646528403968\n"
     ]
    }
   ],
   "source": [
    "# Calculate accuracy score\n",
    "accuracy_nb = accuracy_score(y_test, y_pred_nb)\n",
    "print(\"Accuracy Score for Multinomial Naive Bayes:\", accuracy_nb)"
   ]
  },
  {
   "cell_type": "code",
   "execution_count": 56,
   "id": "dd7971e5-5c4e-49bc-aa0d-c46619deb70a",
   "metadata": {},
   "outputs": [
    {
     "name": "stdout",
     "output_type": "stream",
     "text": [
      "Classification Report for Multinomial Naive Bayes:\n",
      "              precision    recall  f1-score   support\n",
      "\n",
      "           0       0.94      0.91      0.92       533\n",
      "           1       0.92      0.94      0.93       576\n",
      "\n",
      "    accuracy                           0.93      1109\n",
      "   macro avg       0.93      0.93      0.93      1109\n",
      "weighted avg       0.93      0.93      0.93      1109\n",
      "\n"
     ]
    }
   ],
   "source": [
    "# Generate and print the classification report\n",
    "print(\"Classification Report for Multinomial Naive Bayes:\")\n",
    "print(classification_report(y_test, y_pred_nb))"
   ]
  },
  {
   "cell_type": "markdown",
   "id": "98595e14-c60e-4bcb-b9e5-a7d156576887",
   "metadata": {},
   "source": [
    "#### Multinomial Naive Bayes:\r",
    "- Precision, Recall: Improvement in lower bounds, bringing it above .90, but sacrifices some precision and recall in the respective higher bounds, dropping from .98 to .94. Still quite robust. \n",
    "-  F1-score, and Accuracy: The metrics for Multinomial Naive Bayes are similar to those of Logistic Regression, indicating  robust,  overall performance.\n",
    "-  Might be the best balanced model.."
   ]
  },
  {
   "cell_type": "code",
   "execution_count": 57,
   "id": "104c55cb-0542-4f21-bc9b-443c150e09f0",
   "metadata": {},
   "outputs": [
    {
     "data": {
      "image/png": "[encoded data removed]",
      "text/plain": [
       "<Figure size 640x480 with 2 Axes>"
      ]
     },
     "metadata": {},
     "output_type": "display_data"
    }
   ],
   "source": [
    "# Generate and plot the confusion matrix\n",
    "cm_nb = confusion_matrix(y_test, y_pred_nb, labels=nb_grid_tfidf.classes_)\n",
    "disp_nb = ConfusionMatrixDisplay(confusion_matrix=cm_nb, display_labels=nb_grid_tfidf.classes_)\n",
    "disp_nb.plot(cmap='Blues')\n",
    "plt.title('Confusion Matrix for Multinomial Naive Bayes with TfidfVectorizer')\n",
    "plt.show()"
   ]
  },
  {
   "cell_type": "code",
   "execution_count": 58,
   "id": "0aed8623-b14b-4e6e-bc94-ccc39741f63b",
   "metadata": {},
   "outputs": [],
   "source": [
    "# Define the pipeline for Random Forest Classifier with CountVectorizer\n",
    "rf_pipe_cv = Pipeline([\n",
    "    ('vectorizer', CountVectorizer()),\n",
    "    ('classifier', RandomForestClassifier())\n",
    "])"
   ]
  },
  {
   "cell_type": "code",
   "execution_count": 59,
   "id": "a7f0b445-270b-4866-b5ce-bf8ae7ad4893",
   "metadata": {},
   "outputs": [],
   "source": [
    "# Define the parameter grid for grid search\n",
    "rf_param_grid = {\n",
    "    'vectorizer__ngram_range': [(1, 1), (1, 2)],  # unigrams or bigrams\n",
    "    'vectorizer__max_df': [0.5, 0.75, 1.0],  # maximum document frequency\n",
    "    'classifier__n_estimators': [100, 200, 300],  # number of trees in the forest\n",
    "    'classifier__max_depth': [10, 20, 30]  # maximum depth of the tree\n",
    "}"
   ]
  },
  {
   "cell_type": "code",
   "execution_count": 60,
   "id": "e3308438-e3ac-45da-9122-1740c79dff42",
   "metadata": {},
   "outputs": [
    {
     "data": {
      "text/html": [
       "<style>#sk-container-id-4 {color: black;}#sk-container-id-4 pre{padding: 0;}#sk-container-id-4 div.sk-toggleable {background-color: white;}#sk-container-id-4 label.sk-toggleable__label {cursor: pointer;display: block;width: 100%;margin-bottom: 0;padding: 0.3em;box-sizing: border-box;text-align: center;}#sk-container-id-4 label.sk-toggleable__label-arrow:before {content: \"▸\";float: left;margin-right: 0.25em;color: #696969;}#sk-container-id-4 label.sk-toggleable__label-arrow:hover:before {color: black;}#sk-container-id-4 div.sk-estimator:hover label.sk-toggleable__label-arrow:before {color: black;}#sk-container-id-4 div.sk-toggleable__content {max-height: 0;max-width: 0;overflow: hidden;text-align: left;background-color: #f0f8ff;}#sk-container-id-4 div.sk-toggleable__content pre {margin: 0.2em;color: black;border-radius: 0.25em;background-color: #f0f8ff;}#sk-container-id-4 input.sk-toggleable__control:checked~div.sk-toggleable__content {max-height: 200px;max-width: 100%;overflow: auto;}#sk-container-id-4 input.sk-toggleable__control:checked~label.sk-toggleable__label-arrow:before {content: \"▾\";}#sk-container-id-4 div.sk-estimator input.sk-toggleable__control:checked~label.sk-toggleable__label {background-color: #d4ebff;}#sk-container-id-4 div.sk-label input.sk-toggleable__control:checked~label.sk-toggleable__label {background-color: #d4ebff;}#sk-container-id-4 input.sk-hidden--visually {border: 0;clip: rect(1px 1px 1px 1px);clip: rect(1px, 1px, 1px, 1px);height: 1px;margin: -1px;overflow: hidden;padding: 0;position: absolute;width: 1px;}#sk-container-id-4 div.sk-estimator {font-family: monospace;background-color: #f0f8ff;border: 1px dotted black;border-radius: 0.25em;box-sizing: border-box;margin-bottom: 0.5em;}#sk-container-id-4 div.sk-estimator:hover {background-color: #d4ebff;}#sk-container-id-4 div.sk-parallel-item::after {content: \"\";width: 100%;border-bottom: 1px solid gray;flex-grow: 1;}#sk-container-id-4 div.sk-label:hover label.sk-toggleable__label {background-color: #d4ebff;}#sk-container-id-4 div.sk-serial::before {content: \"\";position: absolute;border-left: 1px solid gray;box-sizing: border-box;top: 0;bottom: 0;left: 50%;z-index: 0;}#sk-container-id-4 div.sk-serial {display: flex;flex-direction: column;align-items: center;background-color: white;padding-right: 0.2em;padding-left: 0.2em;position: relative;}#sk-container-id-4 div.sk-item {position: relative;z-index: 1;}#sk-container-id-4 div.sk-parallel {display: flex;align-items: stretch;justify-content: center;background-color: white;position: relative;}#sk-container-id-4 div.sk-item::before, #sk-container-id-4 div.sk-parallel-item::before {content: \"\";position: absolute;border-left: 1px solid gray;box-sizing: border-box;top: 0;bottom: 0;left: 50%;z-index: -1;}#sk-container-id-4 div.sk-parallel-item {display: flex;flex-direction: column;z-index: 1;position: relative;background-color: white;}#sk-container-id-4 div.sk-parallel-item:first-child::after {align-self: flex-end;width: 50%;}#sk-container-id-4 div.sk-parallel-item:last-child::after {align-self: flex-start;width: 50%;}#sk-container-id-4 div.sk-parallel-item:only-child::after {width: 0;}#sk-container-id-4 div.sk-dashed-wrapped {border: 1px dashed gray;margin: 0 0.4em 0.5em 0.4em;box-sizing: border-box;padding-bottom: 0.4em;background-color: white;}#sk-container-id-4 div.sk-label label {font-family: monospace;font-weight: bold;display: inline-block;line-height: 1.2em;}#sk-container-id-4 div.sk-label-container {text-align: center;}#sk-container-id-4 div.sk-container {/* jupyter's `normalize.less` sets `[hidden] { display: none; }` but bootstrap.min.css set `[hidden] { display: none !important; }` so we also need the `!important` here to be able to override the default hidden behavior on the sphinx rendered scikit-learn.org. See: https://github.com/scikit-learn/scikit-learn/issues/21755 */display: inline-block !important;position: relative;}#sk-container-id-4 div.sk-text-repr-fallback {display: none;}</style><div id=\"sk-container-id-4\" class=\"sk-top-container\"><div class=\"sk-text-repr-fallback\"><pre>GridSearchCV(cv=5,\n",
       "             estimator=Pipeline(steps=[(&#x27;vectorizer&#x27;, CountVectorizer()),\n",
       "                                       (&#x27;classifier&#x27;,\n",
       "                                        RandomForestClassifier())]),\n",
       "             param_grid={&#x27;classifier__max_depth&#x27;: [10, 20, 30],\n",
       "                         &#x27;classifier__n_estimators&#x27;: [100, 200, 300],\n",
       "                         &#x27;vectorizer__max_df&#x27;: [0.5, 0.75, 1.0],\n",
       "                         &#x27;vectorizer__ngram_range&#x27;: [(1, 1), (1, 2)]})</pre><b>In a Jupyter environment, please rerun this cell to show the HTML representation or trust the notebook. <br />On GitHub, the HTML representation is unable to render, please try loading this page with nbviewer.org.</b></div><div class=\"sk-container\" hidden><div class=\"sk-item sk-dashed-wrapped\"><div class=\"sk-label-container\"><div class=\"sk-label sk-toggleable\"><input class=\"sk-toggleable__control sk-hidden--visually\" id=\"sk-estimator-id-13\" type=\"checkbox\" ><label for=\"sk-estimator-id-13\" class=\"sk-toggleable__label sk-toggleable__label-arrow\">GridSearchCV</label><div class=\"sk-toggleable__content\"><pre>GridSearchCV(cv=5,\n",
       "             estimator=Pipeline(steps=[(&#x27;vectorizer&#x27;, CountVectorizer()),\n",
       "                                       (&#x27;classifier&#x27;,\n",
       "                                        RandomForestClassifier())]),\n",
       "             param_grid={&#x27;classifier__max_depth&#x27;: [10, 20, 30],\n",
       "                         &#x27;classifier__n_estimators&#x27;: [100, 200, 300],\n",
       "                         &#x27;vectorizer__max_df&#x27;: [0.5, 0.75, 1.0],\n",
       "                         &#x27;vectorizer__ngram_range&#x27;: [(1, 1), (1, 2)]})</pre></div></div></div><div class=\"sk-parallel\"><div class=\"sk-parallel-item\"><div class=\"sk-item\"><div class=\"sk-label-container\"><div class=\"sk-label sk-toggleable\"><input class=\"sk-toggleable__control sk-hidden--visually\" id=\"sk-estimator-id-14\" type=\"checkbox\" ><label for=\"sk-estimator-id-14\" class=\"sk-toggleable__label sk-toggleable__label-arrow\">estimator: Pipeline</label><div class=\"sk-toggleable__content\"><pre>Pipeline(steps=[(&#x27;vectorizer&#x27;, CountVectorizer()),\n",
       "                (&#x27;classifier&#x27;, RandomForestClassifier())])</pre></div></div></div><div class=\"sk-serial\"><div class=\"sk-item\"><div class=\"sk-serial\"><div class=\"sk-item\"><div class=\"sk-estimator sk-toggleable\"><input class=\"sk-toggleable__control sk-hidden--visually\" id=\"sk-estimator-id-15\" type=\"checkbox\" ><label for=\"sk-estimator-id-15\" class=\"sk-toggleable__label sk-toggleable__label-arrow\">CountVectorizer</label><div class=\"sk-toggleable__content\"><pre>CountVectorizer()</pre></div></div></div><div class=\"sk-item\"><div class=\"sk-estimator sk-toggleable\"><input class=\"sk-toggleable__control sk-hidden--visually\" id=\"sk-estimator-id-16\" type=\"checkbox\" ><label for=\"sk-estimator-id-16\" class=\"sk-toggleable__label sk-toggleable__label-arrow\">RandomForestClassifier</label><div class=\"sk-toggleable__content\"><pre>RandomForestClassifier()</pre></div></div></div></div></div></div></div></div></div></div></div></div>"
      ],
      "text/plain": [
       "GridSearchCV(cv=5,\n",
       "             estimator=Pipeline(steps=[('vectorizer', CountVectorizer()),\n",
       "                                       ('classifier',\n",
       "                                        RandomForestClassifier())]),\n",
       "             param_grid={'classifier__max_depth': [10, 20, 30],\n",
       "                         'classifier__n_estimators': [100, 200, 300],\n",
       "                         'vectorizer__max_df': [0.5, 0.75, 1.0],\n",
       "                         'vectorizer__ngram_range': [(1, 1), (1, 2)]})"
      ]
     },
     "execution_count": 60,
     "metadata": {},
     "output_type": "execute_result"
    }
   ],
   "source": [
    "# Perform grid search\n",
    "rf_grid_cv = GridSearchCV(rf_pipe_cv, rf_param_grid, cv=5)\n",
    "rf_grid_cv.fit(X_train, y_train)"
   ]
  },
  {
   "cell_type": "code",
   "execution_count": 61,
   "id": "d511c4c3-da19-47c9-96d1-9dd729afc957",
   "metadata": {},
   "outputs": [
    {
     "name": "stdout",
     "output_type": "stream",
     "text": [
      "Best parameters for Random Forest Classifier with CountVectorizer: {'classifier__max_depth': 30, 'classifier__n_estimators': 300, 'vectorizer__max_df': 0.75, 'vectorizer__ngram_range': (1, 1)}\n",
      "Accuracy score for Random Forest Classifier with CountVectorizer: 0.8908912012350569\n"
     ]
    }
   ],
   "source": [
    "# Print the best parameters and the accuracy score\n",
    "print(\"Best parameters for Random Forest Classifier with CountVectorizer:\", rf_grid_cv.best_params_)\n",
    "print(\"Accuracy score for Random Forest Classifier with CountVectorizer:\", rf_grid_cv.best_score_)"
   ]
  },
  {
   "cell_type": "code",
   "execution_count": 62,
   "id": "a0237ffd-5dbc-4e3b-ac16-805b57a21d96",
   "metadata": {},
   "outputs": [],
   "source": [
    "# Make predictions on the test data\n",
    "y_pred_rf = rf_grid_cv.predict(X_test)"
   ]
  },
  {
   "cell_type": "code",
   "execution_count": 63,
   "id": "947f7a73-2778-4040-94b9-a97f859f08e6",
   "metadata": {},
   "outputs": [
    {
     "name": "stdout",
     "output_type": "stream",
     "text": [
      "Accuracy Score for Random Forest Classifier: 0.8782687105500451\n"
     ]
    }
   ],
   "source": [
    "# Calculate accuracy score\n",
    "accuracy_rf = accuracy_score(y_test, y_pred_rf)\n",
    "print(\"Accuracy Score for Random Forest Classifier:\", accuracy_rf)"
   ]
  },
  {
   "cell_type": "code",
   "execution_count": 64,
   "id": "e25b6767-95e9-4504-9772-f77995acb10c",
   "metadata": {},
   "outputs": [
    {
     "name": "stdout",
     "output_type": "stream",
     "text": [
      "Classification Report for Random Forest Classifier:\n",
      "              precision    recall  f1-score   support\n",
      "\n",
      "           0       0.98      0.76      0.86       533\n",
      "           1       0.82      0.99      0.89       576\n",
      "\n",
      "    accuracy                           0.88      1109\n",
      "   macro avg       0.90      0.87      0.88      1109\n",
      "weighted avg       0.90      0.88      0.88      1109\n",
      "\n"
     ]
    }
   ],
   "source": [
    "# Generate and print the classification report\n",
    "print(\"Classification Report for Random Forest Classifier:\")\n",
    "print(classification_report(y_test, y_pred_rf))"
   ]
  },
  {
   "cell_type": "markdown",
   "id": "399e20a3-a831-4a58-806d-7e80bc73f565",
   "metadata": {},
   "source": [
    "#### Random Forest Classifier:\n",
    "- Precision: The precision for subreddit 0 is high, but for subreddit 1, it is lower.\n",
    "- Recall: The recall for subreddit 1 is high, but for subreddit 0, it is much lower.\n",
    "- F1-score: The F1-score for both subreddits is slightly lower compared to the other models.\n",
    "- Accuracy: The accuracy is 88%, which is lower than the other models. Let's ignore this one as a viable model."
   ]
  },
  {
   "cell_type": "code",
   "execution_count": 76,
   "id": "06b8cda1-322b-4a68-aa5b-f40d3dbeddb4",
   "metadata": {},
   "outputs": [
    {
     "data": {
      "image/png": "[encoded data removed]",
      "text/plain": [
       "<Figure size 640x480 with 2 Axes>"
      ]
     },
     "metadata": {},
     "output_type": "display_data"
    }
   ],
   "source": [
    "# Generate and plot the confusion matrix\n",
    "cm_rf = confusion_matrix(y_test, y_pred_rf, labels=rf_grid_cv.classes_)\n",
    "disp_rf = ConfusionMatrixDisplay(confusion_matrix=cm_rf, display_labels=['r/CryptoMoonShots', 'r/wallstreetbets'])\n",
    "disp_rf.plot(cmap='Blues')\n",
    "plt.title('Confusion Matrix for Random Forest Classifier with CountVectorizer')\n",
    "plt.show()"
   ]
  },
  {
   "cell_type": "code",
   "execution_count": 77,
   "id": "baafc5a5-b755-4e11-837b-20bba935fd47",
   "metadata": {},
   "outputs": [],
   "source": [
    "from scipy.stats import mode\n",
    "\n",
    "# Combine predictions from the three models\n",
    "ensemble_pred = np.array([y_pred, y_pred_nb])\n",
    "final_pred = mode(ensemble_pred)[0]"
   ]
  },
  {
   "cell_type": "code",
   "execution_count": 78,
   "id": "db82441c-008e-4299-9b50-813bf63ac1be",
   "metadata": {},
   "outputs": [
    {
     "data": {
      "text/plain": [
       "3424    0\n",
       "1616    1\n",
       "5231    0\n",
       "230     1\n",
       "2042    1\n",
       "       ..\n",
       "3956    0\n",
       "1321    1\n",
       "1322    1\n",
       "3619    0\n",
       "70      1\n",
       "Name: subreddit, Length: 1109, dtype: int64"
      ]
     },
     "execution_count": 78,
     "metadata": {},
     "output_type": "execute_result"
    }
   ],
   "source": [
    "y_test"
   ]
  },
  {
   "cell_type": "code",
   "execution_count": 79,
   "id": "3ee67fed-448f-4bb2-af4d-d24ca83a8bd5",
   "metadata": {},
   "outputs": [
    {
     "data": {
      "text/plain": [
       "array([0, 1, 1, ..., 1, 1, 1])"
      ]
     },
     "execution_count": 79,
     "metadata": {},
     "output_type": "execute_result"
    }
   ],
   "source": [
    "final_pred"
   ]
  },
  {
   "cell_type": "code",
   "execution_count": 80,
   "id": "f6ed40af-cfb4-4c8a-a1c3-7e4254fd1633",
   "metadata": {},
   "outputs": [
    {
     "name": "stdout",
     "output_type": "stream",
     "text": [
      "Accuracy Score for the Ensembled Model: 0.9314697926059513\n"
     ]
    }
   ],
   "source": [
    "# Calculate accuracy score for the ensembled model\n",
    "accuracy_ensemble = accuracy_score(y_test, final_pred)\n",
    "print(\"Accuracy Score for the Ensembled Model:\", accuracy_ensemble)"
   ]
  },
  {
   "cell_type": "code",
   "execution_count": 87,
   "id": "928fee6b-e90c-4ecf-9e65-e512a5ad839d",
   "metadata": {},
   "outputs": [
    {
     "name": "stdout",
     "output_type": "stream",
     "text": [
      "Classification Report for Ensembled Model:\n",
      "              precision    recall  f1-score   support\n",
      "\n",
      "           0       0.93      0.92      0.93       533\n",
      "           1       0.93      0.94      0.93       576\n",
      "\n",
      "    accuracy                           0.93      1109\n",
      "   macro avg       0.93      0.93      0.93      1109\n",
      "weighted avg       0.93      0.93      0.93      1109\n",
      "\n"
     ]
    }
   ],
   "source": [
    "# Generate and print the classification report\n",
    "print(\"Classification Report for Ensembled Model:\")\n",
    "print(classification_report(y_test, final_pred))"
   ]
  },
  {
   "cell_type": "markdown",
   "id": "a447c39c-52cb-479a-8b39-139239f238bd",
   "metadata": {},
   "source": [
    "\n",
    "#### Ensembled Model:\n",
    "- Precision, Recall, F1-score, and Accuracy: The ensembled model has similar performance to the first two individual models, with high precision of 0.93, recall of around 0.93, F1-score of 0.93, and accuracy of 0.93 for both subreddits.\n",
    "- This will give more of a balance with the false negatives and positives. Let's choose this model for production!"
   ]
  },
  {
   "cell_type": "code",
   "execution_count": 82,
   "id": "a88523a7-ccbc-4021-8553-93e3a98dd120",
   "metadata": {},
   "outputs": [
    {
     "data": {
      "image/png": "[encoded data removed]",
      "text/plain": [
       "<Figure size 640x480 with 2 Axes>"
      ]
     },
     "metadata": {},
     "output_type": "display_data"
    }
   ],
   "source": [
    "# Generate and plot the confusion matrix for the ensembled model\n",
    "cm_ensemble = confusion_matrix(y_test, final_pred, labels=[0, 1])\n",
    "disp_ensemble = ConfusionMatrixDisplay(confusion_matrix=cm_ensemble, display_labels=['r/CryptoMoonShots', 'r/wallstreetbets'])\n",
    "disp_ensemble.plot(cmap='Blues')\n",
    "plt.title('Confusion Matrix for the Ensembled Model')\n",
    "plt.show()"
   ]
  },
  {
   "cell_type": "code",
   "execution_count": null,
   "id": "f5d89916-e0d6-4a8d-ac84-36b4b9802016",
   "metadata": {},
   "outputs": [],
   "source": []
  },
  {
   "cell_type": "code",
   "execution_count": 88,
   "id": "89dc9b68-98fd-4d60-9f52-164bfadba739",
   "metadata": {},
   "outputs": [
    {
     "data": {
      "image/png": "[encoded data removed]",
      "text/plain": [
       "<Figure size 1000x600 with 1 Axes>"
      ]
     },
     "metadata": {},
     "output_type": "display_data"
    }
   ],
   "source": [
    "# Identify the incorrect predictions for the ensembled model\n",
    "incorrect_predictions = np.where(final_pred != y_test)[0]\n",
    "\n",
    "# Create a new DataFrame to store the incorrect predictions\n",
    "incorrect_df = X_test.reset_index(drop=True)[incorrect_predictions].to_frame()\n",
    "incorrect_df['true_label'] = y_test.reset_index(drop=True)[incorrect_predictions]\n",
    "incorrect_df['predicted_label'] = final_pred[incorrect_predictions]\n",
    "\n",
    "# Plot the count of false negatives and false positives\n",
    "plt.figure(figsize=(10, 6))\n",
    "# incorrect_df['true_label'].value_counts().plot(kind='bar', color='lightcoral', width=0.4, position=1, label='True Label')\n",
    "incorrect_df['predicted_label'].value_counts().plot(kind='bar', color='skyblue', width=0.4, position=0, label='Predicted Label')\n",
    "plt.title('Count of False Negatives and False Positives in Ensembled Model')\n",
    "plt.xlabel('Subreddit')\n",
    "plt.ylabel('Count')\n",
    "plt.xticks(ticks=[0, 1], labels=['r/CryptoMoonShots', 'r/wallstreetbets'])\n",
    "plt.legend()\n",
    "plt.show()"
   ]
  }
 ],
 "metadata": {
  "kernelspec": {
   "display_name": "anaconda-panel-2023.05-py310",
   "language": "python",
   "name": "conda-env-anaconda-panel-2023.05-py310-py"
  },
  "language_info": {
   "codemirror_mode": {
    "name": "ipython",
    "version": 3
   },
   "file_extension": ".py",
   "mimetype": "text/x-python",
   "name": "python",
   "nbconvert_exporter": "python",
   "pygments_lexer": "ipython3",
   "version": "3.11.5"
  }
 },
 "nbformat": 4,
 "nbformat_minor": 5
}
