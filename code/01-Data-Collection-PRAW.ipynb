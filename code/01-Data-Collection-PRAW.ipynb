{
 "cells": [
  {
   "cell_type": "markdown",
   "id": "cb65cd65-9557-4eed-abc3-85ad153b4cdf",
   "metadata": {},
   "source": [
    "# ![](https://ga-dash.s3.amazonaws.com/production/assets/logo-9f88ae6c9c3871690e33280fcf557f33.png) Project 3: Web APIs & NLP"
   ]
  },
  {
   "cell_type": "markdown",
   "id": "ae36df69-d68c-44c8-9f77-9793238f6a9d",
   "metadata": {},
   "source": [
    "Reddit is an online platform for sharing news, content, and discussions. It features user-created sections called 'subreddits' that cater to a wide range of topics and interests. Members can contribute various types of content, including images, texts, and links, to these subreddits, and other members can express their approval ('upvote') or disapproval ('downvote') of the content.\n",
    "\n",
    "### **Problem Statement:**\n",
    "The goal is to build a binary classification model that can accurately distinguish between cryptocurrency-based posts and stock-based posts from the famous wallstreetbets and CryptoMoonShots subreddits. The model will be trained using Natural Language Processing (NLP) techniques on text data collected from these subreddits, with the help of PRAW. The classification model will help Reddit users identify whether a post is related to cryptocurrency or stocks, which can be valuable for making informed decisions about trading or investment opportunities."
   ]
  },
  {
   "cell_type": "markdown",
   "id": "2384a907-22ba-403c-b0f2-e0fb785bfd15",
   "metadata": {},
   "source": [
    "#### **Objectives**:\n",
    "1. Gather and prepare data from the wallstreetbets and CryptoMoonShots subreddits using PRAW.\n",
    "2. Preprocess the text data by cleaning, tokenizing, and vectorizing the posts for NLP analysis.\n",
    "3. Train and compare two classification models - random forest trees and logistic regression - to predict whether a post is related to cryptocurrency or stocks.\n",
    "4. Evaluate the performance of the models using appropriate metrics such as accuracy, precision, recall, and F1 score."
   ]
  },
  {
   "cell_type": "code",
   "execution_count": 2,
   "id": "aac36adb-aab4-4b24-9170-5abcaa531f8c",
   "metadata": {
    "tags": []
   },
   "outputs": [],
   "source": [
    "import time, warnings\n",
    "import pandas as pd\n",
    "import numpy as np\n",
    "\n",
    "# warnings.filterwarnings('ignore')\n",
    "pd.set_option('display.max_columns', None)\n",
    "\n",
    "# %matplotlib inline"
   ]
  },
  {
   "cell_type": "code",
   "execution_count": 3,
   "id": "bf521ebb-57de-4d14-94e4-a4ea66a2438d",
   "metadata": {
    "tags": []
   },
   "outputs": [],
   "source": [
    "import praw\n",
    "\n",
    "# instantiate an instance PRAW using OAuth credentials\n",
    "reddit = praw.Reddit(\n",
    "    client_id='dYcW5XC-BIZCgWpqa5apNg',\n",
    "    client_secret='9DbERLcWrml0Q0ptlYl6Tmi4UCWFJw',\n",
    "    user_agent='sentiment-analysis-lawdhavmerccy',\n",
    "    username='lawdhavmerccy',\n",
    "    password='SprScrtPsswrd4life!')"
   ]
  },
  {
   "cell_type": "markdown",
   "id": "906fd142-7584-48c7-bab1-6377888534f2",
   "metadata": {},
   "source": [
    "### Scrape New Posts in Each Subreddit"
   ]
  },
  {
   "cell_type": "code",
   "execution_count": 5,
   "id": "ef7fc48e-4034-4e4f-b210-f7d89c0293d1",
   "metadata": {
    "tags": []
   },
   "outputs": [],
   "source": [
    "# define custom scraping function for new posts\n",
    "def scrape_subreddit_new(subreddit_name, postlimit=1000):\n",
    "    \n",
    "    subreddit = reddit.subreddit(subreddit_name)\n",
    "    post_id = []\n",
    "    date_utc = []\n",
    "    title = []\n",
    "    text = []\n",
    "    score = []\n",
    "    upvote_ratio = []\n",
    "    sub_name = []\n",
    "    url = []\n",
    "    \n",
    "\n",
    "\n",
    "    # collect from posts sorted by new posts\n",
    "    for post in subreddit.new(limit = postlimit):\n",
    "        # collect information on post\n",
    "        post_id.append(post.id)\n",
    "        date_utc.append(post.created_utc)\n",
    "        title.append(post.title)\n",
    "        text.append(post.selftext)\n",
    "        score.append(post.score)\n",
    "        upvote_ratio.append(post.upvote_ratio)\n",
    "        sub_name.append(post.subreddit)\n",
    "        url.append(post.url)\n",
    "        \n",
    "        \n",
    "        \n",
    "    # transform new posts list into a df\n",
    "    df_post = pd.DataFrame({'id': post_id,\n",
    "                            'datetime': date_utc,\n",
    "                            'title': title,\n",
    "                            'text': text,\n",
    "                            'score': score,\n",
    "                            'upvote_ratio': upvote_ratio,\n",
    "                            'url': url,\n",
    "                            'subreddit': sub_name,})\n",
    "    \n",
    "    df_post['datetime'] = pd.to_datetime(df_post['datetime'], unit = 's')\n",
    "    \n",
    "    return df_post"
   ]
  },
  {
   "cell_type": "code",
   "execution_count": 6,
   "id": "b09dcea5-d825-465a-93d4-16df995a0a90",
   "metadata": {
    "tags": []
   },
   "outputs": [
    {
     "name": "stdout",
     "output_type": "stream",
     "text": [
      "CPU times: total: 1.06 s\n",
      "Wall time: 12.5 s\n"
     ]
    }
   ],
   "source": [
    "%%time\n",
    "# scrape from subreddit wallstreetbets\n",
    "wsb_new_posts = scrape_subreddit_new('wallstreetbets')"
   ]
  },
  {
   "cell_type": "code",
   "execution_count": 7,
   "id": "36c24aa6-3ec1-4f7e-bb7b-104c2dd697b2",
   "metadata": {
    "tags": []
   },
   "outputs": [
    {
     "data": {
      "text/html": [
       "<div>\n",
       "<style scoped>\n",
       "    .dataframe tbody tr th:only-of-type {\n",
       "        vertical-align: middle;\n",
       "    }\n",
       "\n",
       "    .dataframe tbody tr th {\n",
       "        vertical-align: top;\n",
       "    }\n",
       "\n",
       "    .dataframe thead th {\n",
       "        text-align: right;\n",
       "    }\n",
       "</style>\n",
       "<table border=\"1\" class=\"dataframe\">\n",
       "  <thead>\n",
       "    <tr style=\"text-align: right;\">\n",
       "      <th></th>\n",
       "      <th>id</th>\n",
       "      <th>datetime</th>\n",
       "      <th>title</th>\n",
       "      <th>text</th>\n",
       "      <th>score</th>\n",
       "      <th>upvote_ratio</th>\n",
       "      <th>url</th>\n",
       "      <th>subreddit</th>\n",
       "    </tr>\n",
       "  </thead>\n",
       "  <tbody>\n",
       "    <tr>\n",
       "      <th>0</th>\n",
       "      <td>1dzdf1j</td>\n",
       "      <td>2024-07-09 21:00:53</td>\n",
       "      <td>$Sofi is coming back .</td>\n",
       "      <td>I suggest you buy and hold .</td>\n",
       "      <td>3</td>\n",
       "      <td>0.71</td>\n",
       "      <td>https://i.redd.it/ffwh4k2u4kbd1.jpeg</td>\n",
       "      <td>wallstreetbets</td>\n",
       "    </tr>\n",
       "    <tr>\n",
       "      <th>1</th>\n",
       "      <td>1dzdebj</td>\n",
       "      <td>2024-07-09 21:00:11</td>\n",
       "      <td>What’s going on with BABA?</td>\n",
       "      <td>The stock has performed really poorly over the...</td>\n",
       "      <td>2</td>\n",
       "      <td>0.67</td>\n",
       "      <td>https://www.reddit.com/r/wallstreetbets/commen...</td>\n",
       "      <td>wallstreetbets</td>\n",
       "    </tr>\n",
       "    <tr>\n",
       "      <th>2</th>\n",
       "      <td>1dzd0u6</td>\n",
       "      <td>2024-07-09 20:44:37</td>\n",
       "      <td>ZI Yolo better late than early</td>\n",
       "      <td>DD was some guy posted about seeing a high vol...</td>\n",
       "      <td>2</td>\n",
       "      <td>0.75</td>\n",
       "      <td>https://i.redd.it/a2n775jx1kbd1.jpeg</td>\n",
       "      <td>wallstreetbets</td>\n",
       "    </tr>\n",
       "    <tr>\n",
       "      <th>3</th>\n",
       "      <td>1dzckvv</td>\n",
       "      <td>2024-07-09 20:26:14</td>\n",
       "      <td>We are already in a recession</td>\n",
       "      <td></td>\n",
       "      <td>3</td>\n",
       "      <td>0.57</td>\n",
       "      <td>https://i.redd.it/1uao7vklyjbd1.png</td>\n",
       "      <td>wallstreetbets</td>\n",
       "    </tr>\n",
       "    <tr>\n",
       "      <th>4</th>\n",
       "      <td>1dzcjix</td>\n",
       "      <td>2024-07-09 20:24:41</td>\n",
       "      <td>🍔McDonalds🍔: At ATL in 52 weeks. How to make y...</td>\n",
       "      <td>Hello gentleman. \\n\\nFirst of all, the only DD...</td>\n",
       "      <td>1</td>\n",
       "      <td>0.55</td>\n",
       "      <td>https://www.reddit.com/r/wallstreetbets/commen...</td>\n",
       "      <td>wallstreetbets</td>\n",
       "    </tr>\n",
       "  </tbody>\n",
       "</table>\n",
       "</div>"
      ],
      "text/plain": [
       "        id            datetime  \\\n",
       "0  1dzdf1j 2024-07-09 21:00:53   \n",
       "1  1dzdebj 2024-07-09 21:00:11   \n",
       "2  1dzd0u6 2024-07-09 20:44:37   \n",
       "3  1dzckvv 2024-07-09 20:26:14   \n",
       "4  1dzcjix 2024-07-09 20:24:41   \n",
       "\n",
       "                                               title  \\\n",
       "0                             $Sofi is coming back .   \n",
       "1                        What’s going on with BABA?    \n",
       "2                    ZI Yolo better late than early    \n",
       "3                      We are already in a recession   \n",
       "4  🍔McDonalds🍔: At ATL in 52 weeks. How to make y...   \n",
       "\n",
       "                                                text  score  upvote_ratio  \\\n",
       "0                       I suggest you buy and hold .      3          0.71   \n",
       "1  The stock has performed really poorly over the...      2          0.67   \n",
       "2  DD was some guy posted about seeing a high vol...      2          0.75   \n",
       "3                                                         3          0.57   \n",
       "4  Hello gentleman. \\n\\nFirst of all, the only DD...      1          0.55   \n",
       "\n",
       "                                                 url       subreddit  \n",
       "0               https://i.redd.it/ffwh4k2u4kbd1.jpeg  wallstreetbets  \n",
       "1  https://www.reddit.com/r/wallstreetbets/commen...  wallstreetbets  \n",
       "2               https://i.redd.it/a2n775jx1kbd1.jpeg  wallstreetbets  \n",
       "3                https://i.redd.it/1uao7vklyjbd1.png  wallstreetbets  \n",
       "4  https://www.reddit.com/r/wallstreetbets/commen...  wallstreetbets  "
      ]
     },
     "execution_count": 7,
     "metadata": {},
     "output_type": "execute_result"
    }
   ],
   "source": [
    "wsb_new_posts.head()"
   ]
  },
  {
   "cell_type": "code",
   "execution_count": 8,
   "id": "c3e361ed-fbc9-4ba5-922c-675df4c3c1f9",
   "metadata": {
    "tags": []
   },
   "outputs": [
    {
     "name": "stdout",
     "output_type": "stream",
     "text": [
      "<class 'pandas.core.frame.DataFrame'>\n",
      "RangeIndex: 944 entries, 0 to 943\n",
      "Data columns (total 8 columns):\n",
      " #   Column        Non-Null Count  Dtype         \n",
      "---  ------        --------------  -----         \n",
      " 0   id            944 non-null    object        \n",
      " 1   datetime      944 non-null    datetime64[ns]\n",
      " 2   title         944 non-null    object        \n",
      " 3   text          944 non-null    object        \n",
      " 4   score         944 non-null    int64         \n",
      " 5   upvote_ratio  944 non-null    float64       \n",
      " 6   url           944 non-null    object        \n",
      " 7   subreddit     944 non-null    object        \n",
      "dtypes: datetime64[ns](1), float64(1), int64(1), object(5)\n",
      "memory usage: 59.1+ KB\n"
     ]
    }
   ],
   "source": [
    "wsb_new_posts.info()"
   ]
  },
  {
   "cell_type": "code",
   "execution_count": 9,
   "id": "30fde973-bbcf-4025-8dfe-4e4c46659a6b",
   "metadata": {},
   "outputs": [
    {
     "name": "stdout",
     "output_type": "stream",
     "text": [
      "CPU times: total: 297 ms\n",
      "Wall time: 18.3 s\n"
     ]
    }
   ],
   "source": [
    "%%time\n",
    "# scrape from subreddit CryptoMoonShots\n",
    "cms_new_posts = scrape_subreddit_new('CryptoMoonShots')"
   ]
  },
  {
   "cell_type": "code",
   "execution_count": 10,
   "id": "ea9f0521-000a-47c1-a9c8-5455e059a8c3",
   "metadata": {
    "tags": []
   },
   "outputs": [
    {
     "data": {
      "text/html": [
       "<div>\n",
       "<style scoped>\n",
       "    .dataframe tbody tr th:only-of-type {\n",
       "        vertical-align: middle;\n",
       "    }\n",
       "\n",
       "    .dataframe tbody tr th {\n",
       "        vertical-align: top;\n",
       "    }\n",
       "\n",
       "    .dataframe thead th {\n",
       "        text-align: right;\n",
       "    }\n",
       "</style>\n",
       "<table border=\"1\" class=\"dataframe\">\n",
       "  <thead>\n",
       "    <tr style=\"text-align: right;\">\n",
       "      <th></th>\n",
       "      <th>id</th>\n",
       "      <th>datetime</th>\n",
       "      <th>title</th>\n",
       "      <th>text</th>\n",
       "      <th>score</th>\n",
       "      <th>upvote_ratio</th>\n",
       "      <th>url</th>\n",
       "      <th>subreddit</th>\n",
       "    </tr>\n",
       "  </thead>\n",
       "  <tbody>\n",
       "    <tr>\n",
       "      <th>0</th>\n",
       "      <td>1dzdgyf</td>\n",
       "      <td>2024-07-09 21:03:03</td>\n",
       "      <td>$Lndry | Major Updates for coming up – Excitin...</td>\n",
       "      <td>Major Updates for LNDRY – Exciting Times Ahead...</td>\n",
       "      <td>55</td>\n",
       "      <td>1.00</td>\n",
       "      <td>https://www.reddit.com/r/CryptoMoonShots/comme...</td>\n",
       "      <td>CryptoMoonShots</td>\n",
       "    </tr>\n",
       "    <tr>\n",
       "      <th>1</th>\n",
       "      <td>1dzcnf8</td>\n",
       "      <td>2024-07-09 20:29:06</td>\n",
       "      <td>Nancy coin Daily Update!</td>\n",
       "      <td>Update time!\\n\\nIt's day 4 for Nancy coin, and...</td>\n",
       "      <td>5</td>\n",
       "      <td>1.00</td>\n",
       "      <td>https://www.reddit.com/r/CryptoMoonShots/comme...</td>\n",
       "      <td>CryptoMoonShots</td>\n",
       "    </tr>\n",
       "    <tr>\n",
       "      <th>2</th>\n",
       "      <td>1dzb3et</td>\n",
       "      <td>2024-07-09 19:25:17</td>\n",
       "      <td>I know you're a JEET and so am I</td>\n",
       "      <td>How many of you have ever jeeted a coin? I'm n...</td>\n",
       "      <td>9</td>\n",
       "      <td>0.91</td>\n",
       "      <td>https://www.reddit.com/r/CryptoMoonShots/comme...</td>\n",
       "      <td>CryptoMoonShots</td>\n",
       "    </tr>\n",
       "    <tr>\n",
       "      <th>3</th>\n",
       "      <td>1dz7m7a</td>\n",
       "      <td>2024-07-09 17:03:20</td>\n",
       "      <td>$HEGE Secures Dual Exchange Listings on MEXC a...</td>\n",
       "      <td>I just got some electrifying news that I had t...</td>\n",
       "      <td>12</td>\n",
       "      <td>0.93</td>\n",
       "      <td>https://www.reddit.com/r/CryptoMoonShots/comme...</td>\n",
       "      <td>CryptoMoonShots</td>\n",
       "    </tr>\n",
       "    <tr>\n",
       "      <th>4</th>\n",
       "      <td>1dz7ibw</td>\n",
       "      <td>2024-07-09 16:59:18</td>\n",
       "      <td>$CEEZUR keep growing fast and looking really b...</td>\n",
       "      <td>$CEEZUR is the first of the ancient politifi t...</td>\n",
       "      <td>70</td>\n",
       "      <td>0.95</td>\n",
       "      <td>https://www.reddit.com/r/CryptoMoonShots/comme...</td>\n",
       "      <td>CryptoMoonShots</td>\n",
       "    </tr>\n",
       "  </tbody>\n",
       "</table>\n",
       "</div>"
      ],
      "text/plain": [
       "        id            datetime  \\\n",
       "0  1dzdgyf 2024-07-09 21:03:03   \n",
       "1  1dzcnf8 2024-07-09 20:29:06   \n",
       "2  1dzb3et 2024-07-09 19:25:17   \n",
       "3  1dz7m7a 2024-07-09 17:03:20   \n",
       "4  1dz7ibw 2024-07-09 16:59:18   \n",
       "\n",
       "                                               title  \\\n",
       "0  $Lndry | Major Updates for coming up – Excitin...   \n",
       "1                           Nancy coin Daily Update!   \n",
       "2                   I know you're a JEET and so am I   \n",
       "3  $HEGE Secures Dual Exchange Listings on MEXC a...   \n",
       "4  $CEEZUR keep growing fast and looking really b...   \n",
       "\n",
       "                                                text  score  upvote_ratio  \\\n",
       "0  Major Updates for LNDRY – Exciting Times Ahead...     55          1.00   \n",
       "1  Update time!\\n\\nIt's day 4 for Nancy coin, and...      5          1.00   \n",
       "2  How many of you have ever jeeted a coin? I'm n...      9          0.91   \n",
       "3  I just got some electrifying news that I had t...     12          0.93   \n",
       "4  $CEEZUR is the first of the ancient politifi t...     70          0.95   \n",
       "\n",
       "                                                 url        subreddit  \n",
       "0  https://www.reddit.com/r/CryptoMoonShots/comme...  CryptoMoonShots  \n",
       "1  https://www.reddit.com/r/CryptoMoonShots/comme...  CryptoMoonShots  \n",
       "2  https://www.reddit.com/r/CryptoMoonShots/comme...  CryptoMoonShots  \n",
       "3  https://www.reddit.com/r/CryptoMoonShots/comme...  CryptoMoonShots  \n",
       "4  https://www.reddit.com/r/CryptoMoonShots/comme...  CryptoMoonShots  "
      ]
     },
     "execution_count": 10,
     "metadata": {},
     "output_type": "execute_result"
    }
   ],
   "source": [
    "cms_new_posts.head()"
   ]
  },
  {
   "cell_type": "code",
   "execution_count": 11,
   "id": "270ee7fe-7a9e-4d9b-a2d3-43f73165380d",
   "metadata": {
    "tags": []
   },
   "outputs": [
    {
     "name": "stdout",
     "output_type": "stream",
     "text": [
      "<class 'pandas.core.frame.DataFrame'>\n",
      "RangeIndex: 934 entries, 0 to 933\n",
      "Data columns (total 8 columns):\n",
      " #   Column        Non-Null Count  Dtype         \n",
      "---  ------        --------------  -----         \n",
      " 0   id            934 non-null    object        \n",
      " 1   datetime      934 non-null    datetime64[ns]\n",
      " 2   title         934 non-null    object        \n",
      " 3   text          934 non-null    object        \n",
      " 4   score         934 non-null    int64         \n",
      " 5   upvote_ratio  934 non-null    float64       \n",
      " 6   url           934 non-null    object        \n",
      " 7   subreddit     934 non-null    object        \n",
      "dtypes: datetime64[ns](1), float64(1), int64(1), object(5)\n",
      "memory usage: 58.5+ KB\n"
     ]
    }
   ],
   "source": [
    "cms_new_posts.info()"
   ]
  },
  {
   "cell_type": "markdown",
   "id": "11d97602-ccc1-437f-8203-712c704d96df",
   "metadata": {},
   "source": [
    "#### Export new posts to csv"
   ]
  },
  {
   "cell_type": "code",
   "execution_count": 13,
   "id": "9ef89cf1-563a-4268-8b00-4dda583cf9fe",
   "metadata": {
    "tags": []
   },
   "outputs": [],
   "source": [
    "wsb_new_posts.to_csv('data/wsb_new_posts.csv', index=False) \n",
    "cms_new_posts.to_csv('data/cms_new_posts.csv', index=False)"
   ]
  },
  {
   "cell_type": "markdown",
   "id": "1f33023a-4535-4fd1-8dc0-2de537fbf1f1",
   "metadata": {},
   "source": [
    "### Repeat process for Top Comments"
   ]
  },
  {
   "cell_type": "code",
   "execution_count": 15,
   "id": "66f5fb29-71f1-4d9d-8f5a-3acc7376fec0",
   "metadata": {
    "tags": []
   },
   "outputs": [],
   "source": [
    "# define custom scraping function for top posts\n",
    "def scrape_subreddit_top(subreddit_name, postlimit=1000):\n",
    "    \n",
    "    subreddit = reddit.subreddit(subreddit_name)\n",
    "    post_id = []\n",
    "    date_utc = []\n",
    "    title = []\n",
    "    text = []\n",
    "    score = []\n",
    "    upvote_ratio = []\n",
    "    sub_name = []\n",
    "    url = []\n",
    "    \n",
    "\n",
    "    # collect from posts sorted by top\n",
    "    for post in subreddit.top(limit = postlimit):\n",
    "        # collect information on post\n",
    "        post_id.append(post.id)\n",
    "        date_utc.append(post.created_utc)\n",
    "        title.append(post.title)\n",
    "        text.append(post.selftext)\n",
    "        score.append(post.score)\n",
    "        upvote_ratio.append(post.upvote_ratio)\n",
    "        sub_name.append(post.subreddit)\n",
    "        url.append(post.url)\n",
    "        \n",
    "           \n",
    "    # put posts into a df\n",
    "    df_post = pd.DataFrame({'id': post_id,\n",
    "                            'datetime': date_utc,\n",
    "                            'title': title,\n",
    "                            'text': text,\n",
    "                            'score': score,\n",
    "                            'upvote_ratio': upvote_ratio,\n",
    "                            'url': url,\n",
    "                            'subreddit': sub_name,})\n",
    "    \n",
    "    df_post['datetime'] = pd.to_datetime(df_post['datetime'], unit = 's')\n",
    "    \n",
    "    return df_post"
   ]
  },
  {
   "cell_type": "code",
   "execution_count": 16,
   "id": "a0342630-13a4-432d-b0d5-115b70eb93e2",
   "metadata": {
    "tags": []
   },
   "outputs": [
    {
     "name": "stdout",
     "output_type": "stream",
     "text": [
      "CPU times: total: 250 ms\n",
      "Wall time: 12.5 s\n"
     ]
    }
   ],
   "source": [
    "%%time\n",
    "# scrape from subreddit wallstreetbets\n",
    "wsb_top_posts = scrape_subreddit_top('wallstreetbets')"
   ]
  },
  {
   "cell_type": "code",
   "execution_count": 17,
   "id": "67fa9abe-fa6d-4c5e-a1c1-5138c7f3a4a8",
   "metadata": {
    "tags": []
   },
   "outputs": [
    {
     "data": {
      "text/html": [
       "<div>\n",
       "<style scoped>\n",
       "    .dataframe tbody tr th:only-of-type {\n",
       "        vertical-align: middle;\n",
       "    }\n",
       "\n",
       "    .dataframe tbody tr th {\n",
       "        vertical-align: top;\n",
       "    }\n",
       "\n",
       "    .dataframe thead th {\n",
       "        text-align: right;\n",
       "    }\n",
       "</style>\n",
       "<table border=\"1\" class=\"dataframe\">\n",
       "  <thead>\n",
       "    <tr style=\"text-align: right;\">\n",
       "      <th></th>\n",
       "      <th>id</th>\n",
       "      <th>datetime</th>\n",
       "      <th>title</th>\n",
       "      <th>text</th>\n",
       "      <th>score</th>\n",
       "      <th>upvote_ratio</th>\n",
       "      <th>url</th>\n",
       "      <th>subreddit</th>\n",
       "    </tr>\n",
       "  </thead>\n",
       "  <tbody>\n",
       "    <tr>\n",
       "      <th>0</th>\n",
       "      <td>l8rf4k</td>\n",
       "      <td>2021-01-30 18:00:38</td>\n",
       "      <td>Times Square right now</td>\n",
       "      <td></td>\n",
       "      <td>486588</td>\n",
       "      <td>0.99</td>\n",
       "      <td>https://v.redd.it/x64z70f7eie61</td>\n",
       "      <td>wallstreetbets</td>\n",
       "    </tr>\n",
       "    <tr>\n",
       "      <th>1</th>\n",
       "      <td>l6wu59</td>\n",
       "      <td>2021-01-28 13:40:34</td>\n",
       "      <td>UPVOTE so everyone sees we got SUPPORT</td>\n",
       "      <td></td>\n",
       "      <td>337794</td>\n",
       "      <td>0.98</td>\n",
       "      <td>https://i.redd.it/sgoqy8nyt2e61.png</td>\n",
       "      <td>wallstreetbets</td>\n",
       "    </tr>\n",
       "    <tr>\n",
       "      <th>2</th>\n",
       "      <td>l78uct</td>\n",
       "      <td>2021-01-28 21:06:23</td>\n",
       "      <td>GME YOLO update — Jan 28 2021</td>\n",
       "      <td></td>\n",
       "      <td>300125</td>\n",
       "      <td>0.98</td>\n",
       "      <td>https://i.redd.it/opzucppb15e61.png</td>\n",
       "      <td>wallstreetbets</td>\n",
       "    </tr>\n",
       "    <tr>\n",
       "      <th>3</th>\n",
       "      <td>l846a1</td>\n",
       "      <td>2021-01-29 21:04:45</td>\n",
       "      <td>GME YOLO month-end update — Jan 2021</td>\n",
       "      <td></td>\n",
       "      <td>264428</td>\n",
       "      <td>0.98</td>\n",
       "      <td>https://i.redd.it/r557em3t5ce61.png</td>\n",
       "      <td>wallstreetbets</td>\n",
       "    </tr>\n",
       "    <tr>\n",
       "      <th>4</th>\n",
       "      <td>l881ia</td>\n",
       "      <td>2021-01-29 23:40:59</td>\n",
       "      <td>It’s treason then</td>\n",
       "      <td></td>\n",
       "      <td>246576</td>\n",
       "      <td>0.98</td>\n",
       "      <td>https://i.redd.it/d3t66lv1yce61.jpg</td>\n",
       "      <td>wallstreetbets</td>\n",
       "    </tr>\n",
       "  </tbody>\n",
       "</table>\n",
       "</div>"
      ],
      "text/plain": [
       "       id            datetime                                   title text  \\\n",
       "0  l8rf4k 2021-01-30 18:00:38                  Times Square right now        \n",
       "1  l6wu59 2021-01-28 13:40:34  UPVOTE so everyone sees we got SUPPORT        \n",
       "2  l78uct 2021-01-28 21:06:23           GME YOLO update — Jan 28 2021        \n",
       "3  l846a1 2021-01-29 21:04:45    GME YOLO month-end update — Jan 2021        \n",
       "4  l881ia 2021-01-29 23:40:59                       It’s treason then        \n",
       "\n",
       "    score  upvote_ratio                                  url       subreddit  \n",
       "0  486588          0.99      https://v.redd.it/x64z70f7eie61  wallstreetbets  \n",
       "1  337794          0.98  https://i.redd.it/sgoqy8nyt2e61.png  wallstreetbets  \n",
       "2  300125          0.98  https://i.redd.it/opzucppb15e61.png  wallstreetbets  \n",
       "3  264428          0.98  https://i.redd.it/r557em3t5ce61.png  wallstreetbets  \n",
       "4  246576          0.98  https://i.redd.it/d3t66lv1yce61.jpg  wallstreetbets  "
      ]
     },
     "execution_count": 17,
     "metadata": {},
     "output_type": "execute_result"
    }
   ],
   "source": [
    "wsb_top_posts.head()"
   ]
  },
  {
   "cell_type": "code",
   "execution_count": 18,
   "id": "69f022b4-72b7-45c5-80f1-edd9c2df4051",
   "metadata": {
    "tags": []
   },
   "outputs": [
    {
     "name": "stdout",
     "output_type": "stream",
     "text": [
      "<class 'pandas.core.frame.DataFrame'>\n",
      "RangeIndex: 954 entries, 0 to 953\n",
      "Data columns (total 8 columns):\n",
      " #   Column        Non-Null Count  Dtype         \n",
      "---  ------        --------------  -----         \n",
      " 0   id            954 non-null    object        \n",
      " 1   datetime      954 non-null    datetime64[ns]\n",
      " 2   title         954 non-null    object        \n",
      " 3   text          954 non-null    object        \n",
      " 4   score         954 non-null    int64         \n",
      " 5   upvote_ratio  954 non-null    float64       \n",
      " 6   url           954 non-null    object        \n",
      " 7   subreddit     954 non-null    object        \n",
      "dtypes: datetime64[ns](1), float64(1), int64(1), object(5)\n",
      "memory usage: 59.8+ KB\n"
     ]
    }
   ],
   "source": [
    "wsb_top_posts.info()"
   ]
  },
  {
   "cell_type": "code",
   "execution_count": 19,
   "id": "c2b80807-a834-4eb8-b25a-bf0a0e774b7b",
   "metadata": {
    "tags": []
   },
   "outputs": [
    {
     "name": "stdout",
     "output_type": "stream",
     "text": [
      "CPU times: total: 328 ms\n",
      "Wall time: 22.5 s\n"
     ]
    }
   ],
   "source": [
    "%%time\n",
    "# scrape from subreddit CryptoMoonShots\n",
    "cms_top_posts = scrape_subreddit_top('CryptoMoonShots')"
   ]
  },
  {
   "cell_type": "code",
   "execution_count": 20,
   "id": "0033ed67-0193-4d13-9009-2a8b45e1c5c1",
   "metadata": {
    "tags": []
   },
   "outputs": [
    {
     "data": {
      "text/html": [
       "<div>\n",
       "<style scoped>\n",
       "    .dataframe tbody tr th:only-of-type {\n",
       "        vertical-align: middle;\n",
       "    }\n",
       "\n",
       "    .dataframe tbody tr th {\n",
       "        vertical-align: top;\n",
       "    }\n",
       "\n",
       "    .dataframe thead th {\n",
       "        text-align: right;\n",
       "    }\n",
       "</style>\n",
       "<table border=\"1\" class=\"dataframe\">\n",
       "  <thead>\n",
       "    <tr style=\"text-align: right;\">\n",
       "      <th></th>\n",
       "      <th>id</th>\n",
       "      <th>datetime</th>\n",
       "      <th>title</th>\n",
       "      <th>text</th>\n",
       "      <th>score</th>\n",
       "      <th>upvote_ratio</th>\n",
       "      <th>url</th>\n",
       "      <th>subreddit</th>\n",
       "    </tr>\n",
       "  </thead>\n",
       "  <tbody>\n",
       "    <tr>\n",
       "      <th>0</th>\n",
       "      <td>lp96mm</td>\n",
       "      <td>2021-02-21 23:10:12</td>\n",
       "      <td>Introducing the official CryptoMoonShots premi...</td>\n",
       "      <td>Introducing the official [**CryptoMoonShots Di...</td>\n",
       "      <td>7540</td>\n",
       "      <td>0.98</td>\n",
       "      <td>https://www.reddit.com/r/CryptoMoonShots/comme...</td>\n",
       "      <td>CryptoMoonShots</td>\n",
       "    </tr>\n",
       "    <tr>\n",
       "      <th>1</th>\n",
       "      <td>pxs0q9</td>\n",
       "      <td>2021-09-29 09:47:51</td>\n",
       "      <td>Sphynxswap now live - CERTIK Audit NowCommplete</td>\n",
       "      <td>🔥 Sphynx — the all-in-one platform that is rev...</td>\n",
       "      <td>6022</td>\n",
       "      <td>0.97</td>\n",
       "      <td>https://www.reddit.com/r/CryptoMoonShots/comme...</td>\n",
       "      <td>CryptoMoonShots</td>\n",
       "    </tr>\n",
       "    <tr>\n",
       "      <th>2</th>\n",
       "      <td>oevhep</td>\n",
       "      <td>2021-07-06 13:59:33</td>\n",
       "      <td>Sonar ($PING) | 💻 By Investors For Investors |...</td>\n",
       "      <td>**Game Changing Dex Tool, Made By Investors Fo...</td>\n",
       "      <td>5778</td>\n",
       "      <td>0.97</td>\n",
       "      <td>https://www.reddit.com/r/CryptoMoonShots/comme...</td>\n",
       "      <td>CryptoMoonShots</td>\n",
       "    </tr>\n",
       "    <tr>\n",
       "      <th>3</th>\n",
       "      <td>prcd8x</td>\n",
       "      <td>2021-09-19 17:28:40</td>\n",
       "      <td>Introduction SLAMCHAT an online social marketp...</td>\n",
       "      <td>SLAMCHAT TOKEN 👀 THE NEXT X100?! 💎\\n\\n&amp;#x200B;...</td>\n",
       "      <td>5267</td>\n",
       "      <td>0.99</td>\n",
       "      <td>https://www.reddit.com/r/CryptoMoonShots/comme...</td>\n",
       "      <td>CryptoMoonShots</td>\n",
       "    </tr>\n",
       "    <tr>\n",
       "      <th>4</th>\n",
       "      <td>syqp6g</td>\n",
       "      <td>2022-02-22 15:48:03</td>\n",
       "      <td>JUMPTOKEN | gig economy marketplace | Active P...</td>\n",
       "      <td>JumpToken (JMPT) is a utility token for JumpTa...</td>\n",
       "      <td>5160</td>\n",
       "      <td>0.85</td>\n",
       "      <td>https://www.reddit.com/r/CryptoMoonShots/comme...</td>\n",
       "      <td>CryptoMoonShots</td>\n",
       "    </tr>\n",
       "  </tbody>\n",
       "</table>\n",
       "</div>"
      ],
      "text/plain": [
       "       id            datetime  \\\n",
       "0  lp96mm 2021-02-21 23:10:12   \n",
       "1  pxs0q9 2021-09-29 09:47:51   \n",
       "2  oevhep 2021-07-06 13:59:33   \n",
       "3  prcd8x 2021-09-19 17:28:40   \n",
       "4  syqp6g 2022-02-22 15:48:03   \n",
       "\n",
       "                                               title  \\\n",
       "0  Introducing the official CryptoMoonShots premi...   \n",
       "1    Sphynxswap now live - CERTIK Audit NowCommplete   \n",
       "2  Sonar ($PING) | 💻 By Investors For Investors |...   \n",
       "3  Introduction SLAMCHAT an online social marketp...   \n",
       "4  JUMPTOKEN | gig economy marketplace | Active P...   \n",
       "\n",
       "                                                text  score  upvote_ratio  \\\n",
       "0  Introducing the official [**CryptoMoonShots Di...   7540          0.98   \n",
       "1  🔥 Sphynx — the all-in-one platform that is rev...   6022          0.97   \n",
       "2  **Game Changing Dex Tool, Made By Investors Fo...   5778          0.97   \n",
       "3  SLAMCHAT TOKEN 👀 THE NEXT X100?! 💎\\n\\n&#x200B;...   5267          0.99   \n",
       "4  JumpToken (JMPT) is a utility token for JumpTa...   5160          0.85   \n",
       "\n",
       "                                                 url        subreddit  \n",
       "0  https://www.reddit.com/r/CryptoMoonShots/comme...  CryptoMoonShots  \n",
       "1  https://www.reddit.com/r/CryptoMoonShots/comme...  CryptoMoonShots  \n",
       "2  https://www.reddit.com/r/CryptoMoonShots/comme...  CryptoMoonShots  \n",
       "3  https://www.reddit.com/r/CryptoMoonShots/comme...  CryptoMoonShots  \n",
       "4  https://www.reddit.com/r/CryptoMoonShots/comme...  CryptoMoonShots  "
      ]
     },
     "execution_count": 20,
     "metadata": {},
     "output_type": "execute_result"
    }
   ],
   "source": [
    "cms_top_posts.head()"
   ]
  },
  {
   "cell_type": "code",
   "execution_count": 21,
   "id": "6434d015-46e3-4ab3-9503-19fc1bafd9c3",
   "metadata": {
    "tags": []
   },
   "outputs": [
    {
     "name": "stdout",
     "output_type": "stream",
     "text": [
      "<class 'pandas.core.frame.DataFrame'>\n",
      "RangeIndex: 968 entries, 0 to 967\n",
      "Data columns (total 8 columns):\n",
      " #   Column        Non-Null Count  Dtype         \n",
      "---  ------        --------------  -----         \n",
      " 0   id            968 non-null    object        \n",
      " 1   datetime      968 non-null    datetime64[ns]\n",
      " 2   title         968 non-null    object        \n",
      " 3   text          968 non-null    object        \n",
      " 4   score         968 non-null    int64         \n",
      " 5   upvote_ratio  968 non-null    float64       \n",
      " 6   url           968 non-null    object        \n",
      " 7   subreddit     968 non-null    object        \n",
      "dtypes: datetime64[ns](1), float64(1), int64(1), object(5)\n",
      "memory usage: 60.6+ KB\n"
     ]
    }
   ],
   "source": [
    "cms_top_posts.info()"
   ]
  },
  {
   "cell_type": "markdown",
   "id": "cc1432ba-fb0f-4c4a-925e-48fbf0689edf",
   "metadata": {},
   "source": [
    "#### Export top posts to csv"
   ]
  },
  {
   "cell_type": "code",
   "execution_count": 23,
   "id": "617c1240-b77f-4755-a0a8-3970c72532c9",
   "metadata": {
    "tags": []
   },
   "outputs": [],
   "source": [
    "wsb_top_posts.to_csv('data/wsb_top_posts.csv', index=False)\n",
    "cms_top_posts.to_csv('data/cms_top_posts.csv', index=False)"
   ]
  },
  {
   "cell_type": "markdown",
   "id": "908db252-8bf3-476d-8605-5a9c27166827",
   "metadata": {},
   "source": [
    "### Repeat process for Controversial Comments"
   ]
  },
  {
   "cell_type": "code",
   "execution_count": 25,
   "id": "e172da28-ecd8-4132-9ab5-a39c193bd4d2",
   "metadata": {
    "tags": []
   },
   "outputs": [],
   "source": [
    "# define custom scraping function for controversial posts\n",
    "def scrape_subreddit_controversial(subreddit_name, postlimit=1000):\n",
    "    \n",
    "    subreddit = reddit.subreddit(subreddit_name)\n",
    "    post_id = []\n",
    "    date_utc = []\n",
    "    title = []\n",
    "    text = []\n",
    "    score = []\n",
    "    upvote_ratio = []\n",
    "    sub_name = []\n",
    "    url = []\n",
    "    \n",
    "\n",
    "    # collect from posts sorted by hot\n",
    "    for post in subreddit.controversial(limit = postlimit):\n",
    "        # collect information on post\n",
    "        post_id.append(post.id)\n",
    "        date_utc.append(post.created_utc)\n",
    "        title.append(post.title)\n",
    "        text.append(post.selftext)\n",
    "        score.append(post.score)\n",
    "        upvote_ratio.append(post.upvote_ratio)\n",
    "        sub_name.append(post.subreddit)\n",
    "        url.append(post.url)\n",
    "           \n",
    "    # put posts into a df\n",
    "    df_post = pd.DataFrame({'id': post_id,\n",
    "                            'datetime': date_utc,\n",
    "                            'title': title,\n",
    "                            'text': text,\n",
    "                            'score': score,\n",
    "                            'upvote_ratio': upvote_ratio,\n",
    "                            'url': url,\n",
    "                            'subreddit': sub_name,})\n",
    "    \n",
    "    df_post['datetime'] = pd.to_datetime(df_post['datetime'], unit = 's')\n",
    "    \n",
    "    return df_post"
   ]
  },
  {
   "cell_type": "code",
   "execution_count": 26,
   "id": "cd63ba7d-5fbd-40ea-9a85-472dd05a17d1",
   "metadata": {
    "tags": []
   },
   "outputs": [
    {
     "name": "stdout",
     "output_type": "stream",
     "text": [
      "CPU times: total: 344 ms\n",
      "Wall time: 14.2 s\n"
     ]
    }
   ],
   "source": [
    "%%time\n",
    "# scrape from subreddit wallstreetbets\n",
    "wsb_controversial_posts = scrape_subreddit_controversial('wallstreetbets')"
   ]
  },
  {
   "cell_type": "code",
   "execution_count": 27,
   "id": "118ad72a-e5ae-4449-9b40-8c68d5d7ab4e",
   "metadata": {
    "tags": []
   },
   "outputs": [
    {
     "data": {
      "text/html": [
       "<div>\n",
       "<style scoped>\n",
       "    .dataframe tbody tr th:only-of-type {\n",
       "        vertical-align: middle;\n",
       "    }\n",
       "\n",
       "    .dataframe tbody tr th {\n",
       "        vertical-align: top;\n",
       "    }\n",
       "\n",
       "    .dataframe thead th {\n",
       "        text-align: right;\n",
       "    }\n",
       "</style>\n",
       "<table border=\"1\" class=\"dataframe\">\n",
       "  <thead>\n",
       "    <tr style=\"text-align: right;\">\n",
       "      <th></th>\n",
       "      <th>id</th>\n",
       "      <th>datetime</th>\n",
       "      <th>title</th>\n",
       "      <th>text</th>\n",
       "      <th>score</th>\n",
       "      <th>upvote_ratio</th>\n",
       "      <th>url</th>\n",
       "      <th>subreddit</th>\n",
       "    </tr>\n",
       "  </thead>\n",
       "  <tbody>\n",
       "    <tr>\n",
       "      <th>0</th>\n",
       "      <td>lw6hoh</td>\n",
       "      <td>2021-03-02 16:47:04</td>\n",
       "      <td>RKT Megathread for March 2nd, 2021</td>\n",
       "      <td>RKT was highly discussed yesterday, so please ...</td>\n",
       "      <td>1648</td>\n",
       "      <td>0.54</td>\n",
       "      <td>https://www.reddit.com/r/wallstreetbets/commen...</td>\n",
       "      <td>wallstreetbets</td>\n",
       "    </tr>\n",
       "    <tr>\n",
       "      <th>1</th>\n",
       "      <td>u2rhsa</td>\n",
       "      <td>2022-04-13 14:24:01</td>\n",
       "      <td>$WEBR: 40% Short Interest - Grilled Tendies &amp; ...</td>\n",
       "      <td>Weber is the world's premier grill manufactur...</td>\n",
       "      <td>167</td>\n",
       "      <td>0.52</td>\n",
       "      <td>https://www.reddit.com/r/wallstreetbets/commen...</td>\n",
       "      <td>wallstreetbets</td>\n",
       "    </tr>\n",
       "    <tr>\n",
       "      <th>2</th>\n",
       "      <td>s72srt</td>\n",
       "      <td>2022-01-18 17:28:45</td>\n",
       "      <td>AMC &amp; GME Technical Analysis for retards</td>\n",
       "      <td></td>\n",
       "      <td>700</td>\n",
       "      <td>0.57</td>\n",
       "      <td>https://i.redd.it/ri9ss107ehc81.png</td>\n",
       "      <td>wallstreetbets</td>\n",
       "    </tr>\n",
       "    <tr>\n",
       "      <th>3</th>\n",
       "      <td>181snlr</td>\n",
       "      <td>2023-11-23 04:15:56</td>\n",
       "      <td>NVDA is cooking their books. And so are others.</td>\n",
       "      <td>Here is their latest earnings report: https://...</td>\n",
       "      <td>0</td>\n",
       "      <td>0.49</td>\n",
       "      <td>https://www.reddit.com/r/wallstreetbets/commen...</td>\n",
       "      <td>wallstreetbets</td>\n",
       "    </tr>\n",
       "    <tr>\n",
       "      <th>4</th>\n",
       "      <td>w1yroo</td>\n",
       "      <td>2022-07-18 13:00:07</td>\n",
       "      <td>GME NFT Marketplace : New Low Score! 07.18</td>\n",
       "      <td></td>\n",
       "      <td>0</td>\n",
       "      <td>0.48</td>\n",
       "      <td>https://i.redd.it/8przdetypbc91.png</td>\n",
       "      <td>wallstreetbets</td>\n",
       "    </tr>\n",
       "  </tbody>\n",
       "</table>\n",
       "</div>"
      ],
      "text/plain": [
       "        id            datetime  \\\n",
       "0   lw6hoh 2021-03-02 16:47:04   \n",
       "1   u2rhsa 2022-04-13 14:24:01   \n",
       "2   s72srt 2022-01-18 17:28:45   \n",
       "3  181snlr 2023-11-23 04:15:56   \n",
       "4   w1yroo 2022-07-18 13:00:07   \n",
       "\n",
       "                                               title  \\\n",
       "0                 RKT Megathread for March 2nd, 2021   \n",
       "1  $WEBR: 40% Short Interest - Grilled Tendies & ...   \n",
       "2           AMC & GME Technical Analysis for retards   \n",
       "3    NVDA is cooking their books. And so are others.   \n",
       "4         GME NFT Marketplace : New Low Score! 07.18   \n",
       "\n",
       "                                                text  score  upvote_ratio  \\\n",
       "0  RKT was highly discussed yesterday, so please ...   1648          0.54   \n",
       "1   Weber is the world's premier grill manufactur...    167          0.52   \n",
       "2                                                       700          0.57   \n",
       "3  Here is their latest earnings report: https://...      0          0.49   \n",
       "4                                                         0          0.48   \n",
       "\n",
       "                                                 url       subreddit  \n",
       "0  https://www.reddit.com/r/wallstreetbets/commen...  wallstreetbets  \n",
       "1  https://www.reddit.com/r/wallstreetbets/commen...  wallstreetbets  \n",
       "2                https://i.redd.it/ri9ss107ehc81.png  wallstreetbets  \n",
       "3  https://www.reddit.com/r/wallstreetbets/commen...  wallstreetbets  \n",
       "4                https://i.redd.it/8przdetypbc91.png  wallstreetbets  "
      ]
     },
     "execution_count": 27,
     "metadata": {},
     "output_type": "execute_result"
    }
   ],
   "source": [
    "wsb_controversial_posts.head()"
   ]
  },
  {
   "cell_type": "code",
   "execution_count": 28,
   "id": "35a14553-719b-4af8-b6d7-39fe80f21705",
   "metadata": {
    "tags": []
   },
   "outputs": [
    {
     "name": "stdout",
     "output_type": "stream",
     "text": [
      "CPU times: total: 203 ms\n",
      "Wall time: 16.4 s\n"
     ]
    }
   ],
   "source": [
    "%%time\n",
    "# scrape from subreddit CryptoMoonShots\n",
    "cms_controversial_posts = scrape_subreddit_controversial('CryptoMoonShots')"
   ]
  },
  {
   "cell_type": "code",
   "execution_count": 29,
   "id": "ad413c6d-d0ea-42ec-bf17-f1bcd74f3462",
   "metadata": {
    "tags": []
   },
   "outputs": [
    {
     "data": {
      "text/html": [
       "<div>\n",
       "<style scoped>\n",
       "    .dataframe tbody tr th:only-of-type {\n",
       "        vertical-align: middle;\n",
       "    }\n",
       "\n",
       "    .dataframe tbody tr th {\n",
       "        vertical-align: top;\n",
       "    }\n",
       "\n",
       "    .dataframe thead th {\n",
       "        text-align: right;\n",
       "    }\n",
       "</style>\n",
       "<table border=\"1\" class=\"dataframe\">\n",
       "  <thead>\n",
       "    <tr style=\"text-align: right;\">\n",
       "      <th></th>\n",
       "      <th>id</th>\n",
       "      <th>datetime</th>\n",
       "      <th>title</th>\n",
       "      <th>text</th>\n",
       "      <th>score</th>\n",
       "      <th>upvote_ratio</th>\n",
       "      <th>url</th>\n",
       "      <th>subreddit</th>\n",
       "    </tr>\n",
       "  </thead>\n",
       "  <tbody>\n",
       "    <tr>\n",
       "      <th>0</th>\n",
       "      <td>o280zc</td>\n",
       "      <td>2021-06-17 21:13:08</td>\n",
       "      <td>⬆️ EverRise taking over Safemoon? 4000 BNB pre...</td>\n",
       "      <td>BRAND NEW TOKENOMICS \\n\\n100k Buys on ALL TIME...</td>\n",
       "      <td>106</td>\n",
       "      <td>0.50</td>\n",
       "      <td>https://www.reddit.com/r/CryptoMoonShots/comme...</td>\n",
       "      <td>CryptoMoonShots</td>\n",
       "    </tr>\n",
       "    <tr>\n",
       "      <th>1</th>\n",
       "      <td>o2cym1</td>\n",
       "      <td>2021-06-18 01:11:13</td>\n",
       "      <td>🐻 Kodiak Coin ($KODIAK) launched just now! It ...</td>\n",
       "      <td>Let me reiterate what I said in the title: **\"...</td>\n",
       "      <td>56</td>\n",
       "      <td>0.52</td>\n",
       "      <td>https://www.reddit.com/r/CryptoMoonShots/comme...</td>\n",
       "      <td>CryptoMoonShots</td>\n",
       "    </tr>\n",
       "    <tr>\n",
       "      <th>2</th>\n",
       "      <td>n7rfa6</td>\n",
       "      <td>2021-05-08 15:20:43</td>\n",
       "      <td>🚀 $PXL [PIXL] $8m+ mcap just got listed on cnc...</td>\n",
       "      <td>They're creating their very own Arcade to link...</td>\n",
       "      <td>0</td>\n",
       "      <td>0.49</td>\n",
       "      <td>https://www.reddit.com/r/CryptoMoonShots/comme...</td>\n",
       "      <td>CryptoMoonShots</td>\n",
       "    </tr>\n",
       "    <tr>\n",
       "      <th>3</th>\n",
       "      <td>qbki61</td>\n",
       "      <td>2021-10-19 20:44:04</td>\n",
       "      <td>Afrostar | PreSale Coming Soon | Push to Becom...</td>\n",
       "      <td>I’m not here to pitch you on the usual s\\*\\*tc...</td>\n",
       "      <td>109</td>\n",
       "      <td>0.85</td>\n",
       "      <td>https://www.reddit.com/r/CryptoMoonShots/comme...</td>\n",
       "      <td>CryptoMoonShots</td>\n",
       "    </tr>\n",
       "    <tr>\n",
       "      <th>4</th>\n",
       "      <td>ofp7z8</td>\n",
       "      <td>2021-07-07 18:42:25</td>\n",
       "      <td>Uncle Doge is best variant of Doge-Themed coin...</td>\n",
       "      <td>The newest member of the extended doge family ...</td>\n",
       "      <td>255</td>\n",
       "      <td>0.50</td>\n",
       "      <td>https://www.reddit.com/r/CryptoMoonShots/comme...</td>\n",
       "      <td>CryptoMoonShots</td>\n",
       "    </tr>\n",
       "  </tbody>\n",
       "</table>\n",
       "</div>"
      ],
      "text/plain": [
       "       id            datetime  \\\n",
       "0  o280zc 2021-06-17 21:13:08   \n",
       "1  o2cym1 2021-06-18 01:11:13   \n",
       "2  n7rfa6 2021-05-08 15:20:43   \n",
       "3  qbki61 2021-10-19 20:44:04   \n",
       "4  ofp7z8 2021-07-07 18:42:25   \n",
       "\n",
       "                                               title  \\\n",
       "0  ⬆️ EverRise taking over Safemoon? 4000 BNB pre...   \n",
       "1  🐻 Kodiak Coin ($KODIAK) launched just now! It ...   \n",
       "2  🚀 $PXL [PIXL] $8m+ mcap just got listed on cnc...   \n",
       "3  Afrostar | PreSale Coming Soon | Push to Becom...   \n",
       "4  Uncle Doge is best variant of Doge-Themed coin...   \n",
       "\n",
       "                                                text  score  upvote_ratio  \\\n",
       "0  BRAND NEW TOKENOMICS \\n\\n100k Buys on ALL TIME...    106          0.50   \n",
       "1  Let me reiterate what I said in the title: **\"...     56          0.52   \n",
       "2  They're creating their very own Arcade to link...      0          0.49   \n",
       "3  I’m not here to pitch you on the usual s\\*\\*tc...    109          0.85   \n",
       "4  The newest member of the extended doge family ...    255          0.50   \n",
       "\n",
       "                                                 url        subreddit  \n",
       "0  https://www.reddit.com/r/CryptoMoonShots/comme...  CryptoMoonShots  \n",
       "1  https://www.reddit.com/r/CryptoMoonShots/comme...  CryptoMoonShots  \n",
       "2  https://www.reddit.com/r/CryptoMoonShots/comme...  CryptoMoonShots  \n",
       "3  https://www.reddit.com/r/CryptoMoonShots/comme...  CryptoMoonShots  \n",
       "4  https://www.reddit.com/r/CryptoMoonShots/comme...  CryptoMoonShots  "
      ]
     },
     "execution_count": 29,
     "metadata": {},
     "output_type": "execute_result"
    }
   ],
   "source": [
    "cms_controversial_posts.head()"
   ]
  },
  {
   "cell_type": "code",
   "execution_count": 30,
   "id": "6d687b39-c400-4aa9-9069-d80960ec8197",
   "metadata": {
    "tags": []
   },
   "outputs": [],
   "source": [
    "wsb_controversial_posts.to_csv('data/wsb_controversial_posts.csv', index=False)\n",
    "cms_controversial_posts.to_csv('data/cms_controversial_posts.csv', index=False)"
   ]
  },
  {
   "cell_type": "markdown",
   "id": "610b6ab5-d3f4-45ec-91a8-82f1ca86da21",
   "metadata": {},
   "source": [
    "### Merging"
   ]
  },
  {
   "cell_type": "code",
   "execution_count": 32,
   "id": "817f9fa4-4ac9-40a8-8831-4df5a14ae320",
   "metadata": {
    "tags": []
   },
   "outputs": [],
   "source": [
    "# read wsb csv files into DataFrames\n",
    "wsb_new = pd.read_csv('data/wsb_new_posts.csv')\n",
    "wsb_top = pd.read_csv('data/wsb_top_posts.csv')\n",
    "wsb_controversial = pd.read_csv('data/wsb_controversial_posts.csv')\n",
    "\n",
    "# merge DataFrames using 'id' column as the key\n",
    "wsb_merged = pd.concat([wsb_new, wsb_top, wsb_controversial]).drop_duplicates(subset='id')"
   ]
  },
  {
   "cell_type": "code",
   "execution_count": 33,
   "id": "88cecf2d-2b10-43fb-8874-ec501b09a074",
   "metadata": {
    "tags": []
   },
   "outputs": [
    {
     "data": {
      "text/html": [
       "<div>\n",
       "<style scoped>\n",
       "    .dataframe tbody tr th:only-of-type {\n",
       "        vertical-align: middle;\n",
       "    }\n",
       "\n",
       "    .dataframe tbody tr th {\n",
       "        vertical-align: top;\n",
       "    }\n",
       "\n",
       "    .dataframe thead th {\n",
       "        text-align: right;\n",
       "    }\n",
       "</style>\n",
       "<table border=\"1\" class=\"dataframe\">\n",
       "  <thead>\n",
       "    <tr style=\"text-align: right;\">\n",
       "      <th></th>\n",
       "      <th>id</th>\n",
       "      <th>datetime</th>\n",
       "      <th>title</th>\n",
       "      <th>text</th>\n",
       "      <th>score</th>\n",
       "      <th>upvote_ratio</th>\n",
       "      <th>url</th>\n",
       "      <th>subreddit</th>\n",
       "    </tr>\n",
       "  </thead>\n",
       "  <tbody>\n",
       "    <tr>\n",
       "      <th>0</th>\n",
       "      <td>1dzdf1j</td>\n",
       "      <td>2024-07-09 21:00:53</td>\n",
       "      <td>$Sofi is coming back .</td>\n",
       "      <td>I suggest you buy and hold .</td>\n",
       "      <td>3</td>\n",
       "      <td>0.71</td>\n",
       "      <td>https://i.redd.it/ffwh4k2u4kbd1.jpeg</td>\n",
       "      <td>wallstreetbets</td>\n",
       "    </tr>\n",
       "    <tr>\n",
       "      <th>1</th>\n",
       "      <td>1dzdebj</td>\n",
       "      <td>2024-07-09 21:00:11</td>\n",
       "      <td>What’s going on with BABA?</td>\n",
       "      <td>The stock has performed really poorly over the...</td>\n",
       "      <td>2</td>\n",
       "      <td>0.67</td>\n",
       "      <td>https://www.reddit.com/r/wallstreetbets/commen...</td>\n",
       "      <td>wallstreetbets</td>\n",
       "    </tr>\n",
       "    <tr>\n",
       "      <th>2</th>\n",
       "      <td>1dzd0u6</td>\n",
       "      <td>2024-07-09 20:44:37</td>\n",
       "      <td>ZI Yolo better late than early</td>\n",
       "      <td>DD was some guy posted about seeing a high vol...</td>\n",
       "      <td>2</td>\n",
       "      <td>0.75</td>\n",
       "      <td>https://i.redd.it/a2n775jx1kbd1.jpeg</td>\n",
       "      <td>wallstreetbets</td>\n",
       "    </tr>\n",
       "    <tr>\n",
       "      <th>3</th>\n",
       "      <td>1dzckvv</td>\n",
       "      <td>2024-07-09 20:26:14</td>\n",
       "      <td>We are already in a recession</td>\n",
       "      <td>NaN</td>\n",
       "      <td>3</td>\n",
       "      <td>0.57</td>\n",
       "      <td>https://i.redd.it/1uao7vklyjbd1.png</td>\n",
       "      <td>wallstreetbets</td>\n",
       "    </tr>\n",
       "    <tr>\n",
       "      <th>4</th>\n",
       "      <td>1dzcjix</td>\n",
       "      <td>2024-07-09 20:24:41</td>\n",
       "      <td>🍔McDonalds🍔: At ATL in 52 weeks. How to make y...</td>\n",
       "      <td>Hello gentleman. \\n\\nFirst of all, the only DD...</td>\n",
       "      <td>1</td>\n",
       "      <td>0.55</td>\n",
       "      <td>https://www.reddit.com/r/wallstreetbets/commen...</td>\n",
       "      <td>wallstreetbets</td>\n",
       "    </tr>\n",
       "  </tbody>\n",
       "</table>\n",
       "</div>"
      ],
      "text/plain": [
       "        id             datetime  \\\n",
       "0  1dzdf1j  2024-07-09 21:00:53   \n",
       "1  1dzdebj  2024-07-09 21:00:11   \n",
       "2  1dzd0u6  2024-07-09 20:44:37   \n",
       "3  1dzckvv  2024-07-09 20:26:14   \n",
       "4  1dzcjix  2024-07-09 20:24:41   \n",
       "\n",
       "                                               title  \\\n",
       "0                             $Sofi is coming back .   \n",
       "1                        What’s going on with BABA?    \n",
       "2                    ZI Yolo better late than early    \n",
       "3                      We are already in a recession   \n",
       "4  🍔McDonalds🍔: At ATL in 52 weeks. How to make y...   \n",
       "\n",
       "                                                text  score  upvote_ratio  \\\n",
       "0                       I suggest you buy and hold .      3          0.71   \n",
       "1  The stock has performed really poorly over the...      2          0.67   \n",
       "2  DD was some guy posted about seeing a high vol...      2          0.75   \n",
       "3                                                NaN      3          0.57   \n",
       "4  Hello gentleman. \\n\\nFirst of all, the only DD...      1          0.55   \n",
       "\n",
       "                                                 url       subreddit  \n",
       "0               https://i.redd.it/ffwh4k2u4kbd1.jpeg  wallstreetbets  \n",
       "1  https://www.reddit.com/r/wallstreetbets/commen...  wallstreetbets  \n",
       "2               https://i.redd.it/a2n775jx1kbd1.jpeg  wallstreetbets  \n",
       "3                https://i.redd.it/1uao7vklyjbd1.png  wallstreetbets  \n",
       "4  https://www.reddit.com/r/wallstreetbets/commen...  wallstreetbets  "
      ]
     },
     "execution_count": 33,
     "metadata": {},
     "output_type": "execute_result"
    }
   ],
   "source": [
    "wsb_merged.head()"
   ]
  },
  {
   "cell_type": "code",
   "execution_count": 34,
   "id": "ba29e872-1d06-45d4-a277-15b7babd4a3b",
   "metadata": {
    "tags": []
   },
   "outputs": [
    {
     "name": "stdout",
     "output_type": "stream",
     "text": [
      "<class 'pandas.core.frame.DataFrame'>\n",
      "Index: 2823 entries, 0 to 930\n",
      "Data columns (total 8 columns):\n",
      " #   Column        Non-Null Count  Dtype  \n",
      "---  ------        --------------  -----  \n",
      " 0   id            2823 non-null   object \n",
      " 1   datetime      2823 non-null   object \n",
      " 2   title         2823 non-null   object \n",
      " 3   text          1375 non-null   object \n",
      " 4   score         2823 non-null   int64  \n",
      " 5   upvote_ratio  2823 non-null   float64\n",
      " 6   url           2823 non-null   object \n",
      " 7   subreddit     2823 non-null   object \n",
      "dtypes: float64(1), int64(1), object(6)\n",
      "memory usage: 198.5+ KB\n"
     ]
    }
   ],
   "source": [
    "wsb_merged.info()"
   ]
  },
  {
   "cell_type": "code",
   "execution_count": 35,
   "id": "75744e21-9f23-4067-939c-40a0e8689981",
   "metadata": {
    "tags": []
   },
   "outputs": [],
   "source": [
    "# save merged DataFrame to a new csv file\n",
    "wsb_merged.to_csv('data/wsb_merged_posts.csv', index=False)"
   ]
  },
  {
   "cell_type": "code",
   "execution_count": 36,
   "id": "701afdb1-d143-4b3c-bdc7-8aede0072549",
   "metadata": {
    "tags": []
   },
   "outputs": [],
   "source": [
    "# read cms csv files into DataFrames\n",
    "cms_new = pd.read_csv('data/cms_new_posts.csv')\n",
    "cms_top = pd.read_csv('data/cms_top_posts.csv')\n",
    "cms_controversial = pd.read_csv('data/cms_controversial_posts.csv')\n",
    "\n",
    "# merge DataFrames using 'id' column as the key\n",
    "cms_merged = pd.concat([cms_new, cms_top, cms_controversial]).drop_duplicates(subset='id')"
   ]
  },
  {
   "cell_type": "code",
   "execution_count": 37,
   "id": "84c23779-ffb5-428f-ae1d-8fa2f5fe50ed",
   "metadata": {
    "tags": []
   },
   "outputs": [
    {
     "data": {
      "text/html": [
       "<div>\n",
       "<style scoped>\n",
       "    .dataframe tbody tr th:only-of-type {\n",
       "        vertical-align: middle;\n",
       "    }\n",
       "\n",
       "    .dataframe tbody tr th {\n",
       "        vertical-align: top;\n",
       "    }\n",
       "\n",
       "    .dataframe thead th {\n",
       "        text-align: right;\n",
       "    }\n",
       "</style>\n",
       "<table border=\"1\" class=\"dataframe\">\n",
       "  <thead>\n",
       "    <tr style=\"text-align: right;\">\n",
       "      <th></th>\n",
       "      <th>id</th>\n",
       "      <th>datetime</th>\n",
       "      <th>title</th>\n",
       "      <th>text</th>\n",
       "      <th>score</th>\n",
       "      <th>upvote_ratio</th>\n",
       "      <th>url</th>\n",
       "      <th>subreddit</th>\n",
       "    </tr>\n",
       "  </thead>\n",
       "  <tbody>\n",
       "    <tr>\n",
       "      <th>0</th>\n",
       "      <td>1dzdgyf</td>\n",
       "      <td>2024-07-09 21:03:03</td>\n",
       "      <td>$Lndry | Major Updates for coming up – Excitin...</td>\n",
       "      <td>Major Updates for LNDRY – Exciting Times Ahead...</td>\n",
       "      <td>55</td>\n",
       "      <td>1.00</td>\n",
       "      <td>https://www.reddit.com/r/CryptoMoonShots/comme...</td>\n",
       "      <td>CryptoMoonShots</td>\n",
       "    </tr>\n",
       "    <tr>\n",
       "      <th>1</th>\n",
       "      <td>1dzcnf8</td>\n",
       "      <td>2024-07-09 20:29:06</td>\n",
       "      <td>Nancy coin Daily Update!</td>\n",
       "      <td>Update time!\\n\\nIt's day 4 for Nancy coin, and...</td>\n",
       "      <td>5</td>\n",
       "      <td>1.00</td>\n",
       "      <td>https://www.reddit.com/r/CryptoMoonShots/comme...</td>\n",
       "      <td>CryptoMoonShots</td>\n",
       "    </tr>\n",
       "    <tr>\n",
       "      <th>2</th>\n",
       "      <td>1dzb3et</td>\n",
       "      <td>2024-07-09 19:25:17</td>\n",
       "      <td>I know you're a JEET and so am I</td>\n",
       "      <td>How many of you have ever jeeted a coin? I'm n...</td>\n",
       "      <td>9</td>\n",
       "      <td>0.91</td>\n",
       "      <td>https://www.reddit.com/r/CryptoMoonShots/comme...</td>\n",
       "      <td>CryptoMoonShots</td>\n",
       "    </tr>\n",
       "    <tr>\n",
       "      <th>3</th>\n",
       "      <td>1dz7m7a</td>\n",
       "      <td>2024-07-09 17:03:20</td>\n",
       "      <td>$HEGE Secures Dual Exchange Listings on MEXC a...</td>\n",
       "      <td>I just got some electrifying news that I had t...</td>\n",
       "      <td>12</td>\n",
       "      <td>0.93</td>\n",
       "      <td>https://www.reddit.com/r/CryptoMoonShots/comme...</td>\n",
       "      <td>CryptoMoonShots</td>\n",
       "    </tr>\n",
       "    <tr>\n",
       "      <th>4</th>\n",
       "      <td>1dz7ibw</td>\n",
       "      <td>2024-07-09 16:59:18</td>\n",
       "      <td>$CEEZUR keep growing fast and looking really b...</td>\n",
       "      <td>$CEEZUR is the first of the ancient politifi t...</td>\n",
       "      <td>70</td>\n",
       "      <td>0.95</td>\n",
       "      <td>https://www.reddit.com/r/CryptoMoonShots/comme...</td>\n",
       "      <td>CryptoMoonShots</td>\n",
       "    </tr>\n",
       "  </tbody>\n",
       "</table>\n",
       "</div>"
      ],
      "text/plain": [
       "        id             datetime  \\\n",
       "0  1dzdgyf  2024-07-09 21:03:03   \n",
       "1  1dzcnf8  2024-07-09 20:29:06   \n",
       "2  1dzb3et  2024-07-09 19:25:17   \n",
       "3  1dz7m7a  2024-07-09 17:03:20   \n",
       "4  1dz7ibw  2024-07-09 16:59:18   \n",
       "\n",
       "                                               title  \\\n",
       "0  $Lndry | Major Updates for coming up – Excitin...   \n",
       "1                           Nancy coin Daily Update!   \n",
       "2                   I know you're a JEET and so am I   \n",
       "3  $HEGE Secures Dual Exchange Listings on MEXC a...   \n",
       "4  $CEEZUR keep growing fast and looking really b...   \n",
       "\n",
       "                                                text  score  upvote_ratio  \\\n",
       "0  Major Updates for LNDRY – Exciting Times Ahead...     55          1.00   \n",
       "1  Update time!\\n\\nIt's day 4 for Nancy coin, and...      5          1.00   \n",
       "2  How many of you have ever jeeted a coin? I'm n...      9          0.91   \n",
       "3  I just got some electrifying news that I had t...     12          0.93   \n",
       "4  $CEEZUR is the first of the ancient politifi t...     70          0.95   \n",
       "\n",
       "                                                 url        subreddit  \n",
       "0  https://www.reddit.com/r/CryptoMoonShots/comme...  CryptoMoonShots  \n",
       "1  https://www.reddit.com/r/CryptoMoonShots/comme...  CryptoMoonShots  \n",
       "2  https://www.reddit.com/r/CryptoMoonShots/comme...  CryptoMoonShots  \n",
       "3  https://www.reddit.com/r/CryptoMoonShots/comme...  CryptoMoonShots  \n",
       "4  https://www.reddit.com/r/CryptoMoonShots/comme...  CryptoMoonShots  "
      ]
     },
     "execution_count": 37,
     "metadata": {},
     "output_type": "execute_result"
    }
   ],
   "source": [
    "cms_merged.head()"
   ]
  },
  {
   "cell_type": "code",
   "execution_count": 38,
   "id": "281d114e-bcfd-45b0-b085-2f0006b96cb6",
   "metadata": {
    "tags": []
   },
   "outputs": [
    {
     "name": "stdout",
     "output_type": "stream",
     "text": [
      "<class 'pandas.core.frame.DataFrame'>\n",
      "Index: 2722 entries, 0 to 964\n",
      "Data columns (total 8 columns):\n",
      " #   Column        Non-Null Count  Dtype  \n",
      "---  ------        --------------  -----  \n",
      " 0   id            2722 non-null   object \n",
      " 1   datetime      2722 non-null   object \n",
      " 2   title         2722 non-null   object \n",
      " 3   text          2705 non-null   object \n",
      " 4   score         2722 non-null   int64  \n",
      " 5   upvote_ratio  2722 non-null   float64\n",
      " 6   url           2722 non-null   object \n",
      " 7   subreddit     2722 non-null   object \n",
      "dtypes: float64(1), int64(1), object(6)\n",
      "memory usage: 191.4+ KB\n"
     ]
    }
   ],
   "source": [
    "cms_merged.info()"
   ]
  },
  {
   "cell_type": "code",
   "execution_count": 39,
   "id": "3bac3773-ae01-4fef-98e0-461b417f4002",
   "metadata": {
    "tags": []
   },
   "outputs": [],
   "source": [
    "# save merged DataFrame to a new csv file\n",
    "cms_merged.to_csv('data/cms_merged_posts.csv', index=False)"
   ]
  }
 ],
 "metadata": {
  "kernelspec": {
   "display_name": "Python 3 (ipykernel)",
   "language": "python",
   "name": "python3"
  },
  "language_info": {
   "codemirror_mode": {
    "name": "ipython",
    "version": 3
   },
   "file_extension": ".py",
   "mimetype": "text/x-python",
   "name": "python",
   "nbconvert_exporter": "python",
   "pygments_lexer": "ipython3",
   "version": "3.11.7"
  }
 },
 "nbformat": 4,
 "nbformat_minor": 5
}
